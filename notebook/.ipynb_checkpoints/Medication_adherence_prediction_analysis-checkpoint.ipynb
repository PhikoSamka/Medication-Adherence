{
 "cells": [
  {
   "cell_type": "markdown",
   "id": "115d40e1-dbc5-4a65-8277-8d013157e519",
   "metadata": {},
   "source": [
    "# Table of Contents\n",
    "\n",
    "1. [**Introduction**](#introduction)  \n",
    "2. [**Data Cleaning & Exploratory Data Analysis (EDA)**](#data-preprocessing-exploratory-data-analysis-eda)\n",
    "3. [**Feature Selection**](#feature-selection)\n",
    "4. [**Pre-processing and Modelling**](#feature-selection)\n",
    "\n",
    "8. [**Saving The Model**](#appendix)\n"
   ]
  },
  {
   "cell_type": "markdown",
   "id": "ce267cfc-cc46-489c-a4a4-c19fa2344b81",
   "metadata": {},
   "source": [
    "## 1. Introduction"
   ]
  },
  {
   "cell_type": "markdown",
   "id": "bafb36b9-6b3a-45c6-a0ff-7a599e0cadd5",
   "metadata": {},
   "source": [
    "## 2. Data Cleaning & Exploratory Data Analysis (EDA)\n",
    "\n",
    "#### **2.1 General Insights from the Dataset**\n",
    "- Summarize the dataset dimensions (e.g., number of rows and columns).\n",
    "- Display summary statistics for numerical features and unique counts for categorical features.\n",
    "\n",
    "#### **2.2 Distribution of Adherence and Non-Adherence**\n",
    "- Explore the proportion of adherence vs. non-adherence across the dataset.\n",
    "- Break down adherence by key demographics and other features (e.g., age, gender, smoking).\n",
    "\n",
    "#### **2.3 Data Cleaning**\n",
    "- Handle missing values:\n",
    "  - Imputation, removal, or filling missing data based on feature relevance.\n",
    "- Remove outliers:\n",
    "  - Flag and address unrealistic or erroneous entries (e.g., children under 11 smoking or consuming alcohol).\n",
    "  - Validate ranges for numerical features such as age.\n",
    "\n",
    "#### **2.4 Feature Engineering**\n",
    "- Create new features, such as age groups (e.g., infants, toddlers, seniors).\n",
    "\n",
    "#### **2.5 Visualizations**\n",
    "- Plot distributions of key features to identify trends:\n",
    "  - Histograms for numerical features.\n",
    "  - Bar plots for categorical features.\n",
    "- Use correlation heatmaps for numerical relationships.\n",
    "- Visualize adherence across groups (e.g., adherence by age group or disease type).\n",
    "\n"
   ]
  },
  {
   "cell_type": "code",
   "execution_count": 2,
   "id": "8517c708-7810-4ebe-9b54-a452dab5fb90",
   "metadata": {},
   "outputs": [],
   "source": [
    "# importing dependencies\n",
    "import pandas as pd\n",
    "import numpy as np\n",
    "import matplotlib.pyplot as plt\n",
    "import seaborn as sns"
   ]
  },
  {
   "cell_type": "code",
   "execution_count": 3,
   "id": "f8b7274a-8dd4-4aab-8930-e75b55e14888",
   "metadata": {},
   "outputs": [
    {
     "data": {
      "text/html": [
       "<div>\n",
       "<style scoped>\n",
       "    .dataframe tbody tr th:only-of-type {\n",
       "        vertical-align: middle;\n",
       "    }\n",
       "\n",
       "    .dataframe tbody tr th {\n",
       "        vertical-align: top;\n",
       "    }\n",
       "\n",
       "    .dataframe thead th {\n",
       "        text-align: right;\n",
       "    }\n",
       "</style>\n",
       "<table border=\"1\" class=\"dataframe\">\n",
       "  <thead>\n",
       "    <tr style=\"text-align: right;\">\n",
       "      <th></th>\n",
       "      <th>patient_id</th>\n",
       "      <th>Age</th>\n",
       "      <th>Gender</th>\n",
       "      <th>Prescription_period</th>\n",
       "      <th>Diabetes</th>\n",
       "      <th>Alcoholism</th>\n",
       "      <th>HyperTension</th>\n",
       "      <th>Smokes</th>\n",
       "      <th>Tuberculosis</th>\n",
       "      <th>Sms_Reminder</th>\n",
       "      <th>Adherence</th>\n",
       "    </tr>\n",
       "  </thead>\n",
       "  <tbody>\n",
       "    <tr>\n",
       "      <th>0</th>\n",
       "      <td>1</td>\n",
       "      <td>19</td>\n",
       "      <td>M</td>\n",
       "      <td>7</td>\n",
       "      <td>0</td>\n",
       "      <td>0</td>\n",
       "      <td>0</td>\n",
       "      <td>0</td>\n",
       "      <td>0</td>\n",
       "      <td>0</td>\n",
       "      <td>No</td>\n",
       "    </tr>\n",
       "    <tr>\n",
       "      <th>1</th>\n",
       "      <td>2</td>\n",
       "      <td>24</td>\n",
       "      <td>F</td>\n",
       "      <td>59</td>\n",
       "      <td>0</td>\n",
       "      <td>0</td>\n",
       "      <td>0</td>\n",
       "      <td>0</td>\n",
       "      <td>0</td>\n",
       "      <td>0</td>\n",
       "      <td>No</td>\n",
       "    </tr>\n",
       "    <tr>\n",
       "      <th>2</th>\n",
       "      <td>3</td>\n",
       "      <td>4</td>\n",
       "      <td>F</td>\n",
       "      <td>43</td>\n",
       "      <td>0</td>\n",
       "      <td>0</td>\n",
       "      <td>0</td>\n",
       "      <td>0</td>\n",
       "      <td>0</td>\n",
       "      <td>0</td>\n",
       "      <td>No</td>\n",
       "    </tr>\n",
       "    <tr>\n",
       "      <th>3</th>\n",
       "      <td>4</td>\n",
       "      <td>38</td>\n",
       "      <td>M</td>\n",
       "      <td>66</td>\n",
       "      <td>0</td>\n",
       "      <td>0</td>\n",
       "      <td>0</td>\n",
       "      <td>0</td>\n",
       "      <td>0</td>\n",
       "      <td>1</td>\n",
       "      <td>No</td>\n",
       "    </tr>\n",
       "    <tr>\n",
       "      <th>4</th>\n",
       "      <td>5</td>\n",
       "      <td>46</td>\n",
       "      <td>F</td>\n",
       "      <td>98</td>\n",
       "      <td>0</td>\n",
       "      <td>0</td>\n",
       "      <td>0</td>\n",
       "      <td>0</td>\n",
       "      <td>0</td>\n",
       "      <td>1</td>\n",
       "      <td>No</td>\n",
       "    </tr>\n",
       "  </tbody>\n",
       "</table>\n",
       "</div>"
      ],
      "text/plain": [
       "   patient_id  Age Gender  Prescription_period  Diabetes  Alcoholism  \\\n",
       "0           1   19      M                    7         0           0   \n",
       "1           2   24      F                   59         0           0   \n",
       "2           3    4      F                   43         0           0   \n",
       "3           4   38      M                   66         0           0   \n",
       "4           5   46      F                   98         0           0   \n",
       "\n",
       "   HyperTension  Smokes  Tuberculosis  Sms_Reminder Adherence  \n",
       "0             0       0             0             0        No  \n",
       "1             0       0             0             0        No  \n",
       "2             0       0             0             0        No  \n",
       "3             0       0             0             1        No  \n",
       "4             0       0             0             1        No  "
      ]
     },
     "execution_count": 3,
     "metadata": {},
     "output_type": "execute_result"
    }
   ],
   "source": [
    "df = pd.read_csv(\"data/dataset.csv\")\n",
    "df.head()"
   ]
  },
  {
   "cell_type": "code",
   "execution_count": 4,
   "id": "e1f0c579-957f-433d-85bc-9c3ef5b1a4a0",
   "metadata": {},
   "outputs": [
    {
     "name": "stdout",
     "output_type": "stream",
     "text": [
      "<class 'pandas.core.frame.DataFrame'>\n",
      "RangeIndex: 180212 entries, 0 to 180211\n",
      "Data columns (total 11 columns):\n",
      " #   Column               Non-Null Count   Dtype \n",
      "---  ------               --------------   ----- \n",
      " 0   patient_id           180212 non-null  int64 \n",
      " 1   Age                  180212 non-null  int64 \n",
      " 2   Gender               180212 non-null  object\n",
      " 3   Prescription_period  180212 non-null  int64 \n",
      " 4   Diabetes             180212 non-null  int64 \n",
      " 5   Alcoholism           180212 non-null  int64 \n",
      " 6   HyperTension         180212 non-null  int64 \n",
      " 7   Smokes               180212 non-null  int64 \n",
      " 8   Tuberculosis         180212 non-null  int64 \n",
      " 9   Sms_Reminder         180212 non-null  int64 \n",
      " 10  Adherence            180212 non-null  object\n",
      "dtypes: int64(9), object(2)\n",
      "memory usage: 15.1+ MB\n"
     ]
    }
   ],
   "source": [
    "df.info()"
   ]
  },
  {
   "cell_type": "markdown",
   "id": "7a6b2baf-3321-4cc0-bbcd-60b4a66b3929",
   "metadata": {},
   "source": [
    "There are 11 features including the target `Adherece` with over 180k observations. There are no missing vaues (non-null).\n",
    "\n",
    "Now we'll convert columns and observations to lowercase letters "
   ]
  },
  {
   "cell_type": "code",
   "execution_count": 5,
   "id": "d3201340-2b93-45d2-a2cf-a73d5de310da",
   "metadata": {},
   "outputs": [],
   "source": [
    "# converting columns to small letters\n",
    "df.columns = df.columns.str.lower()"
   ]
  },
  {
   "cell_type": "code",
   "execution_count": 6,
   "id": "ba2c2aaa-f177-4959-91b6-51f74139db38",
   "metadata": {},
   "outputs": [
    {
     "data": {
      "text/html": [
       "<div>\n",
       "<style scoped>\n",
       "    .dataframe tbody tr th:only-of-type {\n",
       "        vertical-align: middle;\n",
       "    }\n",
       "\n",
       "    .dataframe tbody tr th {\n",
       "        vertical-align: top;\n",
       "    }\n",
       "\n",
       "    .dataframe thead th {\n",
       "        text-align: right;\n",
       "    }\n",
       "</style>\n",
       "<table border=\"1\" class=\"dataframe\">\n",
       "  <thead>\n",
       "    <tr style=\"text-align: right;\">\n",
       "      <th></th>\n",
       "      <th>patient_id</th>\n",
       "      <th>age</th>\n",
       "      <th>gender</th>\n",
       "      <th>prescription_period</th>\n",
       "      <th>diabetes</th>\n",
       "      <th>alcoholism</th>\n",
       "      <th>hypertension</th>\n",
       "      <th>smokes</th>\n",
       "      <th>tuberculosis</th>\n",
       "      <th>sms_reminder</th>\n",
       "      <th>adherence</th>\n",
       "    </tr>\n",
       "  </thead>\n",
       "  <tbody>\n",
       "    <tr>\n",
       "      <th>0</th>\n",
       "      <td>1</td>\n",
       "      <td>19</td>\n",
       "      <td>m</td>\n",
       "      <td>7</td>\n",
       "      <td>0</td>\n",
       "      <td>0</td>\n",
       "      <td>0</td>\n",
       "      <td>0</td>\n",
       "      <td>0</td>\n",
       "      <td>0</td>\n",
       "      <td>no</td>\n",
       "    </tr>\n",
       "    <tr>\n",
       "      <th>1</th>\n",
       "      <td>2</td>\n",
       "      <td>24</td>\n",
       "      <td>f</td>\n",
       "      <td>59</td>\n",
       "      <td>0</td>\n",
       "      <td>0</td>\n",
       "      <td>0</td>\n",
       "      <td>0</td>\n",
       "      <td>0</td>\n",
       "      <td>0</td>\n",
       "      <td>no</td>\n",
       "    </tr>\n",
       "    <tr>\n",
       "      <th>2</th>\n",
       "      <td>3</td>\n",
       "      <td>4</td>\n",
       "      <td>f</td>\n",
       "      <td>43</td>\n",
       "      <td>0</td>\n",
       "      <td>0</td>\n",
       "      <td>0</td>\n",
       "      <td>0</td>\n",
       "      <td>0</td>\n",
       "      <td>0</td>\n",
       "      <td>no</td>\n",
       "    </tr>\n",
       "    <tr>\n",
       "      <th>3</th>\n",
       "      <td>4</td>\n",
       "      <td>38</td>\n",
       "      <td>m</td>\n",
       "      <td>66</td>\n",
       "      <td>0</td>\n",
       "      <td>0</td>\n",
       "      <td>0</td>\n",
       "      <td>0</td>\n",
       "      <td>0</td>\n",
       "      <td>1</td>\n",
       "      <td>no</td>\n",
       "    </tr>\n",
       "    <tr>\n",
       "      <th>4</th>\n",
       "      <td>5</td>\n",
       "      <td>46</td>\n",
       "      <td>f</td>\n",
       "      <td>98</td>\n",
       "      <td>0</td>\n",
       "      <td>0</td>\n",
       "      <td>0</td>\n",
       "      <td>0</td>\n",
       "      <td>0</td>\n",
       "      <td>1</td>\n",
       "      <td>no</td>\n",
       "    </tr>\n",
       "    <tr>\n",
       "      <th>...</th>\n",
       "      <td>...</td>\n",
       "      <td>...</td>\n",
       "      <td>...</td>\n",
       "      <td>...</td>\n",
       "      <td>...</td>\n",
       "      <td>...</td>\n",
       "      <td>...</td>\n",
       "      <td>...</td>\n",
       "      <td>...</td>\n",
       "      <td>...</td>\n",
       "      <td>...</td>\n",
       "    </tr>\n",
       "    <tr>\n",
       "      <th>180207</th>\n",
       "      <td>180208</td>\n",
       "      <td>17</td>\n",
       "      <td>m</td>\n",
       "      <td>84</td>\n",
       "      <td>0</td>\n",
       "      <td>0</td>\n",
       "      <td>0</td>\n",
       "      <td>0</td>\n",
       "      <td>0</td>\n",
       "      <td>0</td>\n",
       "      <td>no</td>\n",
       "    </tr>\n",
       "    <tr>\n",
       "      <th>180208</th>\n",
       "      <td>180209</td>\n",
       "      <td>41</td>\n",
       "      <td>m</td>\n",
       "      <td>88</td>\n",
       "      <td>0</td>\n",
       "      <td>0</td>\n",
       "      <td>1</td>\n",
       "      <td>0</td>\n",
       "      <td>0</td>\n",
       "      <td>1</td>\n",
       "      <td>no</td>\n",
       "    </tr>\n",
       "    <tr>\n",
       "      <th>180209</th>\n",
       "      <td>180210</td>\n",
       "      <td>48</td>\n",
       "      <td>f</td>\n",
       "      <td>22</td>\n",
       "      <td>0</td>\n",
       "      <td>0</td>\n",
       "      <td>0</td>\n",
       "      <td>0</td>\n",
       "      <td>0</td>\n",
       "      <td>0</td>\n",
       "      <td>yes</td>\n",
       "    </tr>\n",
       "    <tr>\n",
       "      <th>180210</th>\n",
       "      <td>180211</td>\n",
       "      <td>5</td>\n",
       "      <td>m</td>\n",
       "      <td>104</td>\n",
       "      <td>0</td>\n",
       "      <td>0</td>\n",
       "      <td>0</td>\n",
       "      <td>0</td>\n",
       "      <td>0</td>\n",
       "      <td>0</td>\n",
       "      <td>no</td>\n",
       "    </tr>\n",
       "    <tr>\n",
       "      <th>180211</th>\n",
       "      <td>180212</td>\n",
       "      <td>0</td>\n",
       "      <td>m</td>\n",
       "      <td>96</td>\n",
       "      <td>0</td>\n",
       "      <td>0</td>\n",
       "      <td>0</td>\n",
       "      <td>0</td>\n",
       "      <td>0</td>\n",
       "      <td>1</td>\n",
       "      <td>no</td>\n",
       "    </tr>\n",
       "  </tbody>\n",
       "</table>\n",
       "<p>180212 rows × 11 columns</p>\n",
       "</div>"
      ],
      "text/plain": [
       "        patient_id  age gender  prescription_period  diabetes  alcoholism  \\\n",
       "0                1   19      m                    7         0           0   \n",
       "1                2   24      f                   59         0           0   \n",
       "2                3    4      f                   43         0           0   \n",
       "3                4   38      m                   66         0           0   \n",
       "4                5   46      f                   98         0           0   \n",
       "...            ...  ...    ...                  ...       ...         ...   \n",
       "180207      180208   17      m                   84         0           0   \n",
       "180208      180209   41      m                   88         0           0   \n",
       "180209      180210   48      f                   22         0           0   \n",
       "180210      180211    5      m                  104         0           0   \n",
       "180211      180212    0      m                   96         0           0   \n",
       "\n",
       "        hypertension  smokes  tuberculosis  sms_reminder adherence  \n",
       "0                  0       0             0             0        no  \n",
       "1                  0       0             0             0        no  \n",
       "2                  0       0             0             0        no  \n",
       "3                  0       0             0             1        no  \n",
       "4                  0       0             0             1        no  \n",
       "...              ...     ...           ...           ...       ...  \n",
       "180207             0       0             0             0        no  \n",
       "180208             1       0             0             1        no  \n",
       "180209             0       0             0             0       yes  \n",
       "180210             0       0             0             0        no  \n",
       "180211             0       0             0             1        no  \n",
       "\n",
       "[180212 rows x 11 columns]"
      ]
     },
     "execution_count": 6,
     "metadata": {},
     "output_type": "execute_result"
    }
   ],
   "source": [
    "# lowerletters to string observation\n",
    "string_columns = list(df.dtypes[df.dtypes == 'object'].index)\n",
    "\n",
    "for col in string_columns:\n",
    "    df[col] = df[col].str.lower()\n",
    "df"
   ]
  },
  {
   "cell_type": "code",
   "execution_count": 7,
   "id": "bf6fc779-63ad-4baa-8049-4e30dd36824c",
   "metadata": {},
   "outputs": [
    {
     "name": "stdout",
     "output_type": "stream",
     "text": [
      "<class 'pandas.core.frame.DataFrame'>\n",
      "RangeIndex: 180212 entries, 0 to 180211\n",
      "Data columns (total 11 columns):\n",
      " #   Column               Non-Null Count   Dtype \n",
      "---  ------               --------------   ----- \n",
      " 0   patient_id           180212 non-null  int64 \n",
      " 1   age                  180212 non-null  int64 \n",
      " 2   gender               180212 non-null  object\n",
      " 3   prescription_period  180212 non-null  int64 \n",
      " 4   diabetes             180212 non-null  int64 \n",
      " 5   alcoholism           180212 non-null  int64 \n",
      " 6   hypertension         180212 non-null  int64 \n",
      " 7   smokes               180212 non-null  int64 \n",
      " 8   tuberculosis         180212 non-null  int64 \n",
      " 9   sms_reminder         180212 non-null  int64 \n",
      " 10  adherence            180212 non-null  object\n",
      "dtypes: int64(9), object(2)\n",
      "memory usage: 15.1+ MB\n"
     ]
    }
   ],
   "source": [
    "df.info()"
   ]
  },
  {
   "cell_type": "code",
   "execution_count": 8,
   "id": "c259e545-e2f5-47fc-acc4-5941afe2eca7",
   "metadata": {},
   "outputs": [
    {
     "data": {
      "image/png": "[encoded data removed]",
      "text/plain": [
       "<Figure size 800x600 with 1 Axes>"
      ]
     },
     "metadata": {},
     "output_type": "display_data"
    }
   ],
   "source": [
    "plt.figure(figsize=(8, 6))\n",
    "sns.countplot(data=df, x='adherence', palette='viridis')\n",
    "plt.title('Distribution of Adherence (Bar Chart)')\n",
    "plt.xlabel('Adherence Status')\n",
    "plt.ylabel('Count')\n",
    "plt.xticks(ticks=[0, 1], labels=['Non-Adherent', 'Adherent'])\n",
    "plt.show()"
   ]
  },
  {
   "cell_type": "markdown",
   "id": "b8967684-d4b5-4f8c-a8c3-3ccd74581f02",
   "metadata": {},
   "source": [
    "The data is not significantly imbalanced:\n",
    "\n",
    "- **Non-Adherence**: Approximately 69%\n",
    "- **Adherence**: Approximately 31%\n",
    "\n",
    "Typically, imbalance-handling techniques are applied when one class constitutes only 10–20% of the data compared to the other. Since the class distribution in our dataset does not fall into this range, we will not apply any imbalance-handling techniques for now."
   ]
  },
  {
   "cell_type": "markdown",
   "id": "3db6d9a6-c4b4-47e9-90fe-2da93874a635",
   "metadata": {},
   "source": [
    "## Introduction\n"
   ]
  },
  {
   "cell_type": "code",
   "execution_count": 9,
   "id": "48d02266-a2ff-4517-837c-adb9d9e51e49",
   "metadata": {},
   "outputs": [
    {
     "data": {
      "text/html": [
       "<div>\n",
       "<style scoped>\n",
       "    .dataframe tbody tr th:only-of-type {\n",
       "        vertical-align: middle;\n",
       "    }\n",
       "\n",
       "    .dataframe tbody tr th {\n",
       "        vertical-align: top;\n",
       "    }\n",
       "\n",
       "    .dataframe thead th {\n",
       "        text-align: right;\n",
       "    }\n",
       "</style>\n",
       "<table border=\"1\" class=\"dataframe\">\n",
       "  <thead>\n",
       "    <tr style=\"text-align: right;\">\n",
       "      <th></th>\n",
       "      <th>patient_id</th>\n",
       "      <th>age</th>\n",
       "      <th>prescription_period</th>\n",
       "      <th>diabetes</th>\n",
       "      <th>alcoholism</th>\n",
       "      <th>hypertension</th>\n",
       "      <th>smokes</th>\n",
       "      <th>tuberculosis</th>\n",
       "      <th>sms_reminder</th>\n",
       "    </tr>\n",
       "  </thead>\n",
       "  <tbody>\n",
       "    <tr>\n",
       "      <th>count</th>\n",
       "      <td>180212.000000</td>\n",
       "      <td>180212.000000</td>\n",
       "      <td>180212.000000</td>\n",
       "      <td>180212.000000</td>\n",
       "      <td>180212.000000</td>\n",
       "      <td>180212.000000</td>\n",
       "      <td>180212.000000</td>\n",
       "      <td>180212.000000</td>\n",
       "      <td>180212.000000</td>\n",
       "    </tr>\n",
       "    <tr>\n",
       "      <th>mean</th>\n",
       "      <td>90106.500000</td>\n",
       "      <td>37.795363</td>\n",
       "      <td>54.668485</td>\n",
       "      <td>0.078524</td>\n",
       "      <td>0.025043</td>\n",
       "      <td>0.216512</td>\n",
       "      <td>0.052566</td>\n",
       "      <td>0.000338</td>\n",
       "      <td>0.573968</td>\n",
       "    </tr>\n",
       "    <tr>\n",
       "      <th>std</th>\n",
       "      <td>52022.867693</td>\n",
       "      <td>22.852072</td>\n",
       "      <td>35.752491</td>\n",
       "      <td>0.268995</td>\n",
       "      <td>0.156255</td>\n",
       "      <td>0.411868</td>\n",
       "      <td>0.223166</td>\n",
       "      <td>0.018395</td>\n",
       "      <td>0.499824</td>\n",
       "    </tr>\n",
       "    <tr>\n",
       "      <th>min</th>\n",
       "      <td>1.000000</td>\n",
       "      <td>0.000000</td>\n",
       "      <td>1.000000</td>\n",
       "      <td>0.000000</td>\n",
       "      <td>0.000000</td>\n",
       "      <td>0.000000</td>\n",
       "      <td>0.000000</td>\n",
       "      <td>0.000000</td>\n",
       "      <td>0.000000</td>\n",
       "    </tr>\n",
       "    <tr>\n",
       "      <th>25%</th>\n",
       "      <td>45053.750000</td>\n",
       "      <td>19.000000</td>\n",
       "      <td>22.000000</td>\n",
       "      <td>0.000000</td>\n",
       "      <td>0.000000</td>\n",
       "      <td>0.000000</td>\n",
       "      <td>0.000000</td>\n",
       "      <td>0.000000</td>\n",
       "      <td>0.000000</td>\n",
       "    </tr>\n",
       "    <tr>\n",
       "      <th>50%</th>\n",
       "      <td>90106.500000</td>\n",
       "      <td>38.000000</td>\n",
       "      <td>51.000000</td>\n",
       "      <td>0.000000</td>\n",
       "      <td>0.000000</td>\n",
       "      <td>0.000000</td>\n",
       "      <td>0.000000</td>\n",
       "      <td>0.000000</td>\n",
       "      <td>1.000000</td>\n",
       "    </tr>\n",
       "    <tr>\n",
       "      <th>75%</th>\n",
       "      <td>135159.250000</td>\n",
       "      <td>56.000000</td>\n",
       "      <td>86.000000</td>\n",
       "      <td>0.000000</td>\n",
       "      <td>0.000000</td>\n",
       "      <td>0.000000</td>\n",
       "      <td>0.000000</td>\n",
       "      <td>0.000000</td>\n",
       "      <td>1.000000</td>\n",
       "    </tr>\n",
       "    <tr>\n",
       "      <th>max</th>\n",
       "      <td>180212.000000</td>\n",
       "      <td>113.000000</td>\n",
       "      <td>120.000000</td>\n",
       "      <td>1.000000</td>\n",
       "      <td>1.000000</td>\n",
       "      <td>1.000000</td>\n",
       "      <td>1.000000</td>\n",
       "      <td>1.000000</td>\n",
       "      <td>2.000000</td>\n",
       "    </tr>\n",
       "  </tbody>\n",
       "</table>\n",
       "</div>"
      ],
      "text/plain": [
       "          patient_id            age  prescription_period       diabetes  \\\n",
       "count  180212.000000  180212.000000        180212.000000  180212.000000   \n",
       "mean    90106.500000      37.795363            54.668485       0.078524   \n",
       "std     52022.867693      22.852072            35.752491       0.268995   \n",
       "min         1.000000       0.000000             1.000000       0.000000   \n",
       "25%     45053.750000      19.000000            22.000000       0.000000   \n",
       "50%     90106.500000      38.000000            51.000000       0.000000   \n",
       "75%    135159.250000      56.000000            86.000000       0.000000   \n",
       "max    180212.000000     113.000000           120.000000       1.000000   \n",
       "\n",
       "          alcoholism   hypertension         smokes   tuberculosis  \\\n",
       "count  180212.000000  180212.000000  180212.000000  180212.000000   \n",
       "mean        0.025043       0.216512       0.052566       0.000338   \n",
       "std         0.156255       0.411868       0.223166       0.018395   \n",
       "min         0.000000       0.000000       0.000000       0.000000   \n",
       "25%         0.000000       0.000000       0.000000       0.000000   \n",
       "50%         0.000000       0.000000       0.000000       0.000000   \n",
       "75%         0.000000       0.000000       0.000000       0.000000   \n",
       "max         1.000000       1.000000       1.000000       1.000000   \n",
       "\n",
       "        sms_reminder  \n",
       "count  180212.000000  \n",
       "mean        0.573968  \n",
       "std         0.499824  \n",
       "min         0.000000  \n",
       "25%         0.000000  \n",
       "50%         1.000000  \n",
       "75%         1.000000  \n",
       "max         2.000000  "
      ]
     },
     "execution_count": 9,
     "metadata": {},
     "output_type": "execute_result"
    }
   ],
   "source": [
    "# summary statistics for the numetical dataframe\n",
    "df.describe()"
   ]
  },
  {
   "cell_type": "markdown",
   "id": "06ce5a85-7fd6-498b-8072-c76f553ea73f",
   "metadata": {},
   "source": [
    "Our summary statistics shows intesting resuls, we noticed some interesting results in the `age` and `sms_reminder` features:\n",
    "\n",
    "- The highest `age` in the dataset is 113, which is plausible but worth investigating further. Specifically, we want to check how many patients over the age of 100 exist in the dataset. \n",
    "- For the `sms_reminder` feature, there are supposed to be only two values: 0 for False and 1 for True. However, we observed an unexpected value of 2.\n",
    "#### Plan of Action:\n",
    "- Check how many patients are over the `age` of 100 in the dataset.\n",
    "- Analyze the distribution of values in the `sms_reminder` column, focusing on how many instances of the unexpected value 2 exist compared to the expected values (0 and 1). Based on this analysis, determine whether it is reasonable to drop the observations with the value 2, rather than removing the entire column."
   ]
  },
  {
   "cell_type": "code",
   "execution_count": 10,
   "id": "cb5af8be-4c5d-49b6-add5-afadbe444e9b",
   "metadata": {},
   "outputs": [
    {
     "data": {
      "text/plain": [
       "17"
      ]
     },
     "execution_count": 10,
     "metadata": {},
     "output_type": "execute_result"
    }
   ],
   "source": [
    "# check patient(s) age over the age of 200\n",
    "(df.age > 100).sum()"
   ]
  },
  {
   "cell_type": "code",
   "execution_count": 11,
   "id": "b3b69a24-4535-4dc4-8988-4bf4ed79b55f",
   "metadata": {},
   "outputs": [
    {
     "data": {
      "text/plain": [
       "sms_reminder\n",
       "1    0.568675\n",
       "0    0.428678\n",
       "2    0.002647\n",
       "Name: count, dtype: float64"
      ]
     },
     "execution_count": 11,
     "metadata": {},
     "output_type": "execute_result"
    }
   ],
   "source": [
    "# percentage of the sms instances\n",
    "df.sms_reminder.value_counts()/len(df)"
   ]
  },
  {
   "cell_type": "markdown",
   "id": "3807335d-d92b-43ce-8964-58c73c8ad822",
   "metadata": {},
   "source": [
    "After analyzing the distribution of values in the `sms_reminder column`, we observed the following:\n",
    "\n",
    "- 1 (True): 56.87%\n",
    "- 0 (False): 42.87%\n",
    "- 2 (Unexpected): 0.25%\n",
    "  \n",
    "Given that the value 2 accounts for only 0.25% of the observations, it is reasonable to assume these are likely input errors. Removing these observations will not significantly impact our analysis, so we will proceed to exclude them from the dataset."
   ]
  },
  {
   "cell_type": "code",
   "execution_count": 12,
   "id": "a96377bf-1d17-408e-8202-43c17ad195d3",
   "metadata": {},
   "outputs": [
    {
     "data": {
      "text/plain": [
       "count    179735.000000\n",
       "mean          0.570184\n",
       "std           0.495051\n",
       "min           0.000000\n",
       "25%           0.000000\n",
       "50%           1.000000\n",
       "75%           1.000000\n",
       "max           1.000000\n",
       "Name: sms_reminder, dtype: float64"
      ]
     },
     "execution_count": 12,
     "metadata": {},
     "output_type": "execute_result"
    }
   ],
   "source": [
    "# removing observation containing the value 2 in feature sms_reminder\n",
    "df = df[df.sms_reminder != 2]\n",
    "\n",
    "# checking the max value in the sms_reminder is 1 \n",
    "df.sms_reminder.describe()"
   ]
  },
  {
   "cell_type": "code",
   "execution_count": null,
   "id": "ce22b628-4266-4752-944d-d06bf159e80e",
   "metadata": {},
   "outputs": [],
   "source": []
  },
  {
   "cell_type": "code",
   "execution_count": 13,
   "id": "e863b172-b0ee-4826-94a0-e7aafe98a1de",
   "metadata": {},
   "outputs": [
    {
     "data": {
      "text/plain": [
       "0"
      ]
     },
     "execution_count": 13,
     "metadata": {},
     "output_type": "execute_result"
    }
   ],
   "source": [
    "# observing duplicated values\n",
    "df.duplicated().sum()"
   ]
  },
  {
   "cell_type": "markdown",
   "id": "3a4ec7ed-2c14-4963-8413-faed5e31ee93",
   "metadata": {},
   "source": [
    "### Observation: Non-Adherence Among Children and Senior Citizens  \n",
    "\n",
    "We observed some interesting patterns of non-adherence across different age groups:  \n",
    "\n",
    "1. **Children Under 18**:  \n",
    "   Some patients as young as **0 years old (infants)** are categorized as non-adhering. This raises questions about adherence dynamics in children, where responsibility often lies with caregivers.  \n",
    "\n",
    "2. **Senior Citizens**:  \n",
    "   Non-adherence among elderly patients could be attributed to forgetfulness or age-related cognitive challenges. This highlights the importance of caregivers or support systems to help senior citizens maintain medication schedules.  \n",
    "\n",
    "---\n",
    "\n",
    "### Plan of Action  \n",
    "\n",
    "#### 1. Investigate Non-Adherence in Children  \n",
    "- Analyze the data for patients under 18, categorized into the following groups:  \n",
    "  - **Infants**: Ages 0–1  \n",
    "  - **Toddlers**: Ages 1–3  \n",
    "  - **Children**: Ages 4–12  \n",
    "  - **Teenagers**: Ages 13–17  \n",
    "- Examine the prevalence of non-adherence in each group and explore potential factors, such as caregiver involvement, medication type, or logistical barriers.  \n",
    "\n",
    "#### 2. Investigate Non-Adherence in Senior Citizens  \n",
    "- Analyze adherence patterns for patients aged 60 and above, paying particular attention to:  \n",
    "  - Forgetfulness due to age-related cognitive decline  \n",
    "  - Accessibility challenges (e.g., transportation to refill prescriptions)  \n",
    "  - Caregiver or family involvement in supporting adherence  \n",
    "---\n",
    "\n",
    "### Note on Interpretation  \n",
    "\n",
    "This analysis aims to identify potential trends and raise awareness of systemic or caregiver-related challenges.  \n",
    "It does not assign blame but seeks to inform actionable interventions that improve adherence for both children and senior citizens.  \n",
    "Further investigation or additional data collection may be required to draw definitive conclusions.  \n"
   ]
  },
  {
   "cell_type": "code",
   "execution_count": 14,
   "id": "9508e014-18b9-438e-a478-a77d953eccaf",
   "metadata": {},
   "outputs": [],
   "source": [
    "# Define the bins and labels\n",
    "bins = [1, 3, 12, 13, 17]\n",
    "labels = ['infants', 'toddlers', 'children', 'teenagers']\n",
    "\n",
    "# Use pd.cut to bin the data\n",
    "binned_data = pd.cut(\n",
    "    df[(df['age'] < 18) & (df['adherence'] == \"no\")]['age'],\n",
    "    bins=bins,\n",
    "    labels=labels\n",
    ")"
   ]
  },
  {
   "cell_type": "code",
   "execution_count": 15,
   "id": "bf43be5d-c3da-43af-b965-90769622ab1f",
   "metadata": {},
   "outputs": [
    {
     "name": "stderr",
     "output_type": "stream",
     "text": [
      "/var/folders/73/_sv87wxj1w395l3tttnxp_zr0000gn/T/ipykernel_8002/3033667536.py:1: SettingWithCopyWarning: \n",
      "A value is trying to be set on a copy of a slice from a DataFrame.\n",
      "Try using .loc[row_indexer,col_indexer] = value instead\n",
      "\n",
      "See the caveats in the documentation: https://pandas.pydata.org/pandas-docs/stable/user_guide/indexing.html#returning-a-view-versus-a-copy\n",
      "  df.loc[(df['age'] < 18) & (df['adherence'] == \"no\"), 'age_group'] = binned_data\n",
      "/var/folders/73/_sv87wxj1w395l3tttnxp_zr0000gn/T/ipykernel_8002/3033667536.py:3: SettingWithCopyWarning: \n",
      "A value is trying to be set on a copy of a slice from a DataFrame\n",
      "\n",
      "See the caveats in the documentation: https://pandas.pydata.org/pandas-docs/stable/user_guide/indexing.html#returning-a-view-versus-a-copy\n",
      "  df.drop(columns='age_group', inplace=True)\n"
     ]
    },
    {
     "data": {
      "text/html": [
       "<div>\n",
       "<style scoped>\n",
       "    .dataframe tbody tr th:only-of-type {\n",
       "        vertical-align: middle;\n",
       "    }\n",
       "\n",
       "    .dataframe tbody tr th {\n",
       "        vertical-align: top;\n",
       "    }\n",
       "\n",
       "    .dataframe thead th {\n",
       "        text-align: right;\n",
       "    }\n",
       "</style>\n",
       "<table border=\"1\" class=\"dataframe\">\n",
       "  <thead>\n",
       "    <tr style=\"text-align: right;\">\n",
       "      <th></th>\n",
       "      <th>age_group</th>\n",
       "      <th>Total_non_adherence</th>\n",
       "    </tr>\n",
       "  </thead>\n",
       "  <tbody>\n",
       "    <tr>\n",
       "      <th>0</th>\n",
       "      <td>toddlers</td>\n",
       "      <td>13321</td>\n",
       "    </tr>\n",
       "    <tr>\n",
       "      <th>1</th>\n",
       "      <td>teenagers</td>\n",
       "      <td>5228</td>\n",
       "    </tr>\n",
       "    <tr>\n",
       "      <th>2</th>\n",
       "      <td>infants</td>\n",
       "      <td>2228</td>\n",
       "    </tr>\n",
       "    <tr>\n",
       "      <th>3</th>\n",
       "      <td>children</td>\n",
       "      <td>1202</td>\n",
       "    </tr>\n",
       "  </tbody>\n",
       "</table>\n",
       "</div>"
      ],
      "text/plain": [
       "   age_group  Total_non_adherence\n",
       "0   toddlers                13321\n",
       "1  teenagers                 5228\n",
       "2    infants                 2228\n",
       "3   children                 1202"
      ]
     },
     "execution_count": 15,
     "metadata": {},
     "output_type": "execute_result"
    }
   ],
   "source": [
    "df.loc[(df['age'] < 18) & (df['adherence'] == \"no\"), 'age_group'] = binned_data\n",
    "df_non_adherence = pd.DataFrame(df.age_group.value_counts().reset_index())\n",
    "df.drop(columns='age_group', inplace=True)\n",
    "df_non_adherence.columns = ['age_group', 'Total_non_adherence']\n",
    "\n",
    "df_non_adherence"
   ]
  },
  {
   "cell_type": "code",
   "execution_count": 16,
   "id": "26e4a69b-1e08-4ebc-a911-82a67da03e73",
   "metadata": {},
   "outputs": [
    {
     "data": {
      "image/png": "[encoded data removed]",
      "text/plain": [
       "<Figure size 640x480 with 1 Axes>"
      ]
     },
     "metadata": {},
     "output_type": "display_data"
    }
   ],
   "source": [
    "# Plot a bar chart\n",
    "plt.bar(df_non_adherence['age_group'], df_non_adherence['Total_non_adherence'], color='skyblue')\n",
    "plt.xlabel('Age Ranges')\n",
    "plt.ylabel('Total Non-Adherence')\n",
    "plt.title('Medication Non-adherence in Children')\n",
    "plt.show()"
   ]
  },
  {
   "cell_type": "code",
   "execution_count": 17,
   "id": "72b5091a-0214-4271-89db-2e31e6771055",
   "metadata": {},
   "outputs": [
    {
     "data": {
      "text/plain": [
       "0    7.411467\n",
       "1    2.908727\n",
       "2    1.239603\n",
       "3    0.668762\n",
       "Name: Total_non_adherence, dtype: float64"
      ]
     },
     "execution_count": 17,
     "metadata": {},
     "output_type": "execute_result"
    }
   ],
   "source": [
    "# % non-adherence compared to other groups in the dataframe including adults\n",
    "df_non_adherence.Total_non_adherence/len(df)*100"
   ]
  },
  {
   "cell_type": "code",
   "execution_count": 18,
   "id": "10faec2a-e349-49a5-8f06-b85133e624c6",
   "metadata": {},
   "outputs": [
    {
     "data": {
      "text/plain": [
       "21979"
      ]
     },
     "execution_count": 18,
     "metadata": {},
     "output_type": "execute_result"
    }
   ],
   "source": [
    "# total kids that are non-adherence to medication\n",
    "df_non_adherence.Total_non_adherence.sum()"
   ]
  },
  {
   "cell_type": "markdown",
   "id": "6c5b1460-461a-46e8-ab8d-658e14cc4392",
   "metadata": {},
   "source": [
    "1. **Toddlers (1–3 years)**:  \n",
    "   - Over **13, 000 toddlers** are non-adherent, most likely attending kindergarten or creche.  \n",
    "   - Causes are unclear due to limited data on socio-economic background and school environment.  \n",
    "\n",
    "2. **Infants (<1 year)**:  \n",
    "   - More than **2, 000 infants** are non-adherent, raising serious health concerns.  \n",
    "   - Possible factors: postpartum depression, socio-economic challenges, or caregiver negligence.  \n",
    "\n",
    "3. **Age Group Breakdown (Percentage of Total Cases)**:  \n",
    "   - **Toddlers (1–3 years)**: **7,41%**  \n",
    "   - **Teenagers (13–17 years)**: **2.91%**  \n",
    "   - **Infants (<1 year)**: **1.24%**  \n",
    "   - **Children (4–12 years)**: **0.67%**  \n",
    "\n",
    "   While these percentages seem small, the absolute number of children exceeds **21, 979**, highlighting the need for attention.  \n",
    "\n",
    "**Further data is needed to explore socio-economic factors and caregiver involvement.**\n",
    "\n",
    "---\n",
    "\n",
    "**Investigating Smoking and Alcoholism Among Children**\n",
    "\n",
    "While rare, some children under the age of 11 may be recorded as smoking or having alcohol-related issues. According to the **American Lung Association** (n.d.), many children start smoking by age 11, and some become addicted by age 14. Given that instances of smoking or alcoholism at younger ages are extremely uncommon, we will treat any such entries as likely **data errors**.\n",
    "\n",
    "- **Smoking**: Any entries for children under 11 smoking will be flagged or removed as data errors.\n",
    "- **Alcoholism**: Similarly, records for children under 11 with alcoholism will be flagged or removed.\n",
    "\n",
    "This ensures that our analysis remains based on realistic and plausible data.\n"
   ]
  },
  {
   "cell_type": "code",
   "execution_count": 19,
   "id": "394bc9f7-93d1-47bb-b70b-98b8c9fa4654",
   "metadata": {},
   "outputs": [
    {
     "data": {
      "text/html": [
       "<div>\n",
       "<style scoped>\n",
       "    .dataframe tbody tr th:only-of-type {\n",
       "        vertical-align: middle;\n",
       "    }\n",
       "\n",
       "    .dataframe tbody tr th {\n",
       "        vertical-align: top;\n",
       "    }\n",
       "\n",
       "    .dataframe thead th {\n",
       "        text-align: right;\n",
       "    }\n",
       "</style>\n",
       "<table border=\"1\" class=\"dataframe\">\n",
       "  <thead>\n",
       "    <tr style=\"text-align: right;\">\n",
       "      <th></th>\n",
       "      <th>patient_id</th>\n",
       "      <th>age</th>\n",
       "      <th>gender</th>\n",
       "      <th>prescription_period</th>\n",
       "      <th>diabetes</th>\n",
       "      <th>alcoholism</th>\n",
       "      <th>hypertension</th>\n",
       "      <th>smokes</th>\n",
       "      <th>tuberculosis</th>\n",
       "      <th>sms_reminder</th>\n",
       "      <th>adherence</th>\n",
       "    </tr>\n",
       "  </thead>\n",
       "  <tbody>\n",
       "    <tr>\n",
       "      <th>37741</th>\n",
       "      <td>37742</td>\n",
       "      <td>10</td>\n",
       "      <td>m</td>\n",
       "      <td>89</td>\n",
       "      <td>0</td>\n",
       "      <td>1</td>\n",
       "      <td>0</td>\n",
       "      <td>0</td>\n",
       "      <td>0</td>\n",
       "      <td>1</td>\n",
       "      <td>no</td>\n",
       "    </tr>\n",
       "    <tr>\n",
       "      <th>45299</th>\n",
       "      <td>45300</td>\n",
       "      <td>3</td>\n",
       "      <td>m</td>\n",
       "      <td>112</td>\n",
       "      <td>0</td>\n",
       "      <td>1</td>\n",
       "      <td>0</td>\n",
       "      <td>0</td>\n",
       "      <td>0</td>\n",
       "      <td>1</td>\n",
       "      <td>no</td>\n",
       "    </tr>\n",
       "    <tr>\n",
       "      <th>45950</th>\n",
       "      <td>45951</td>\n",
       "      <td>1</td>\n",
       "      <td>m</td>\n",
       "      <td>116</td>\n",
       "      <td>0</td>\n",
       "      <td>1</td>\n",
       "      <td>0</td>\n",
       "      <td>0</td>\n",
       "      <td>0</td>\n",
       "      <td>0</td>\n",
       "      <td>no</td>\n",
       "    </tr>\n",
       "    <tr>\n",
       "      <th>49215</th>\n",
       "      <td>49216</td>\n",
       "      <td>8</td>\n",
       "      <td>m</td>\n",
       "      <td>16</td>\n",
       "      <td>0</td>\n",
       "      <td>1</td>\n",
       "      <td>0</td>\n",
       "      <td>1</td>\n",
       "      <td>0</td>\n",
       "      <td>0</td>\n",
       "      <td>yes</td>\n",
       "    </tr>\n",
       "    <tr>\n",
       "      <th>63689</th>\n",
       "      <td>63690</td>\n",
       "      <td>1</td>\n",
       "      <td>m</td>\n",
       "      <td>111</td>\n",
       "      <td>0</td>\n",
       "      <td>1</td>\n",
       "      <td>0</td>\n",
       "      <td>0</td>\n",
       "      <td>0</td>\n",
       "      <td>0</td>\n",
       "      <td>no</td>\n",
       "    </tr>\n",
       "    <tr>\n",
       "      <th>68535</th>\n",
       "      <td>68536</td>\n",
       "      <td>8</td>\n",
       "      <td>m</td>\n",
       "      <td>29</td>\n",
       "      <td>0</td>\n",
       "      <td>1</td>\n",
       "      <td>0</td>\n",
       "      <td>1</td>\n",
       "      <td>0</td>\n",
       "      <td>0</td>\n",
       "      <td>yes</td>\n",
       "    </tr>\n",
       "    <tr>\n",
       "      <th>123679</th>\n",
       "      <td>123680</td>\n",
       "      <td>3</td>\n",
       "      <td>m</td>\n",
       "      <td>24</td>\n",
       "      <td>0</td>\n",
       "      <td>1</td>\n",
       "      <td>0</td>\n",
       "      <td>0</td>\n",
       "      <td>0</td>\n",
       "      <td>0</td>\n",
       "      <td>yes</td>\n",
       "    </tr>\n",
       "    <tr>\n",
       "      <th>127153</th>\n",
       "      <td>127154</td>\n",
       "      <td>1</td>\n",
       "      <td>m</td>\n",
       "      <td>114</td>\n",
       "      <td>0</td>\n",
       "      <td>1</td>\n",
       "      <td>0</td>\n",
       "      <td>0</td>\n",
       "      <td>0</td>\n",
       "      <td>0</td>\n",
       "      <td>no</td>\n",
       "    </tr>\n",
       "    <tr>\n",
       "      <th>135263</th>\n",
       "      <td>135264</td>\n",
       "      <td>3</td>\n",
       "      <td>m</td>\n",
       "      <td>9</td>\n",
       "      <td>0</td>\n",
       "      <td>1</td>\n",
       "      <td>0</td>\n",
       "      <td>0</td>\n",
       "      <td>0</td>\n",
       "      <td>0</td>\n",
       "      <td>yes</td>\n",
       "    </tr>\n",
       "    <tr>\n",
       "      <th>142624</th>\n",
       "      <td>142625</td>\n",
       "      <td>8</td>\n",
       "      <td>m</td>\n",
       "      <td>27</td>\n",
       "      <td>0</td>\n",
       "      <td>1</td>\n",
       "      <td>0</td>\n",
       "      <td>1</td>\n",
       "      <td>0</td>\n",
       "      <td>0</td>\n",
       "      <td>yes</td>\n",
       "    </tr>\n",
       "    <tr>\n",
       "      <th>160683</th>\n",
       "      <td>160684</td>\n",
       "      <td>4</td>\n",
       "      <td>m</td>\n",
       "      <td>13</td>\n",
       "      <td>0</td>\n",
       "      <td>1</td>\n",
       "      <td>0</td>\n",
       "      <td>0</td>\n",
       "      <td>0</td>\n",
       "      <td>1</td>\n",
       "      <td>yes</td>\n",
       "    </tr>\n",
       "  </tbody>\n",
       "</table>\n",
       "</div>"
      ],
      "text/plain": [
       "        patient_id  age gender  prescription_period  diabetes  alcoholism  \\\n",
       "37741        37742   10      m                   89         0           1   \n",
       "45299        45300    3      m                  112         0           1   \n",
       "45950        45951    1      m                  116         0           1   \n",
       "49215        49216    8      m                   16         0           1   \n",
       "63689        63690    1      m                  111         0           1   \n",
       "68535        68536    8      m                   29         0           1   \n",
       "123679      123680    3      m                   24         0           1   \n",
       "127153      127154    1      m                  114         0           1   \n",
       "135263      135264    3      m                    9         0           1   \n",
       "142624      142625    8      m                   27         0           1   \n",
       "160683      160684    4      m                   13         0           1   \n",
       "\n",
       "        hypertension  smokes  tuberculosis  sms_reminder adherence  \n",
       "37741              0       0             0             1        no  \n",
       "45299              0       0             0             1        no  \n",
       "45950              0       0             0             0        no  \n",
       "49215              0       1             0             0       yes  \n",
       "63689              0       0             0             0        no  \n",
       "68535              0       1             0             0       yes  \n",
       "123679             0       0             0             0       yes  \n",
       "127153             0       0             0             0        no  \n",
       "135263             0       0             0             0       yes  \n",
       "142624             0       1             0             0       yes  \n",
       "160683             0       0             0             1       yes  "
      ]
     },
     "execution_count": 19,
     "metadata": {},
     "output_type": "execute_result"
    }
   ],
   "source": [
    "# chilren under the age of 11 that are alcoholics (possibility of entry error)\n",
    "df[(df.age < 11) & (df.alcoholism == 1)]"
   ]
  },
  {
   "cell_type": "code",
   "execution_count": 20,
   "id": "af06ff6e-c21f-46eb-83c6-6a2717cc9480",
   "metadata": {},
   "outputs": [
    {
     "name": "stdout",
     "output_type": "stream",
     "text": [
      "Kids under the age of 11 that are alcoholics: 11\n",
      "Kids under the age of 11 that are smokers: 3\n",
      "These observation will be removed from the dataframe as they will be treated as data entry errors\n"
     ]
    }
   ],
   "source": [
    "print(\"Kids under the age of 11 that are alcoholics:\", len(df[(df.age < 11) & (df.alcoholism == 1)]))\n",
    "print(\"Kids under the age of 11 that are smokers:\", len(df[(df.age < 11) & (df.smokes == 1)]))\n",
    "print(\"These observation will be removed from the dataframe as they will be treated as data entry errors\")\n",
    "\n",
    "# removing the dataframes these observation from our dataframes as they maybe data entry-erros\n",
    "df = df[~((df['age'] < 11) & (df['alcoholism'] == 1))]\n",
    "df = df[~((df['age'] < 11) & (df['smokes'] == 1))]\n"
   ]
  },
  {
   "cell_type": "code",
   "execution_count": 21,
   "id": "bc691afc-5ece-4133-b813-c37a2fa756d7",
   "metadata": {},
   "outputs": [
    {
     "data": {
      "text/plain": [
       "179724"
      ]
     },
     "execution_count": 21,
     "metadata": {},
     "output_type": "execute_result"
    }
   ],
   "source": [
    "len(df)"
   ]
  },
  {
   "cell_type": "markdown",
   "id": "a8533ed1-45ef-452d-a20c-ad79d378bee0",
   "metadata": {},
   "source": [
    "#### Suggest Supportive Interventions  \n",
    "- **For Children**:  \n",
    "  - Educate caregivers on the importance of adherence.  \n",
    "  - Identify cases where systemic barriers (e.g., complex medication schedules, limited access) may require intervention.  \n"
   ]
  },
  {
   "cell_type": "code",
   "execution_count": 22,
   "id": "39a4aa20-f993-421f-80f0-0bb13ed907a9",
   "metadata": {},
   "outputs": [
    {
     "data": {
      "image/png": "[encoded data removed]",
      "text/plain": [
       "<Figure size 800x600 with 1 Axes>"
      ]
     },
     "metadata": {},
     "output_type": "display_data"
    },
    {
     "data": {
      "text/plain": [
       "adherence\n",
       "no     78.285236\n",
       "yes    21.714764\n",
       "Name: count, dtype: float64"
      ]
     },
     "execution_count": 22,
     "metadata": {},
     "output_type": "execute_result"
    }
   ],
   "source": [
    "# \n",
    "df_senior = df[df.age>=65]\n",
    "\n",
    "plt.figure(figsize=(8, 6))\n",
    "sns.countplot(data=df_senior, x='adherence', palette='viridis')\n",
    "plt.title('Distribution of Adherence (Bar Chart)')\n",
    "plt.xlabel('Adherence Status')\n",
    "plt.ylabel('Count')\n",
    "plt.xticks(ticks=[0, 1], labels=['Non-Adherent', 'Adherent'])\n",
    "plt.show()\n",
    "\n",
    "df_senior.adherence.value_counts()/len(df_senior) *100"
   ]
  },
  {
   "cell_type": "markdown",
   "id": "7452a67d-d3e6-429a-a16f-22b3f6dd5bfa",
   "metadata": {},
   "source": [
    "- **For Senior Citizens**:\n",
    "  - Senior have more than **78.10%** non-adherence which might be cause by lack of energy, or forgetfull nature due to age.\n",
    "  - Encourage caregivers to implement reminder systems, such as alarms, pill organizers, or apps, to help elderly patients stay on track.  \n",
    "  - Highlight the importance of family or community support to monitor adherence.  "
   ]
  },
  {
   "cell_type": "code",
   "execution_count": 23,
   "id": "ce2be8d1-b193-452f-b504-d373d37d7530",
   "metadata": {},
   "outputs": [
    {
     "data": {
      "image/png": "[encoded data removed]",
      "text/plain": [
       "<Figure size 800x600 with 1 Axes>"
      ]
     },
     "metadata": {},
     "output_type": "display_data"
    },
    {
     "name": "stdout",
     "output_type": "stream",
     "text": [
      "diabetes\n",
      "0    165605\n",
      "1     14119\n",
      "Name: count, dtype: int64\n",
      "\n",
      "\n",
      "alcoholism\n",
      "0    175231\n",
      "1      4493\n",
      "Name: count, dtype: int64\n",
      "\n",
      "\n",
      "hypertension\n",
      "0    140837\n",
      "1     38887\n",
      "Name: count, dtype: int64\n",
      "\n",
      "\n",
      "smokes\n",
      "0    170272\n",
      "1      9452\n",
      "Name: count, dtype: int64\n",
      "\n",
      "\n",
      "tuberculosis\n",
      "0    179663\n",
      "1        61\n",
      "Name: count, dtype: int64\n",
      "\n",
      "\n"
     ]
    }
   ],
   "source": [
    "# Calculate value counts for each feature\n",
    "binary_features = ['diabetes',\n",
    "       'alcoholism', 'hypertension', 'smokes', 'tuberculosis']\n",
    "\n",
    "# Create a DataFrame with value counts\n",
    "counts = pd.DataFrame({feature: df[feature].value_counts() for feature in binary_features}).T\n",
    "counts.columns = ['No (0)', 'Yes (1)']  # Rename columns for clarity\n",
    "\n",
    "# Plot stacked bar chart\n",
    "counts.plot(kind='bar', stacked=True, color=['lightgrey', 'skyblue'], figsize=(8, 6))\n",
    "plt.xlabel('Conditions')\n",
    "plt.ylabel('Count')\n",
    "plt.title('Distribution of Binary Condition Features')\n",
    "plt.legend(title='Response')\n",
    "plt.show()\n",
    "\n",
    "for feature in binary_features:\n",
    "    print(df[feature].value_counts())\n",
    "    print('\\n')"
   ]
  },
  {
   "cell_type": "markdown",
   "id": "12f1532c-2b44-477d-9b0b-38283b88047e",
   "metadata": {},
   "source": [
    "- **Hypertension** shows significantly better adherence results, with **38,887** patients adhering to their prescribed medication.  \n",
    "- In contrast, **Tuberculosis** exhibits the worst adherence, with only **61** patients adhering, making it the lowest among all observed conditions."
   ]
  },
  {
   "cell_type": "code",
   "execution_count": 24,
   "id": "d1e4b2e6-6570-4737-b5db-13fa1b586fa8",
   "metadata": {},
   "outputs": [
    {
     "name": "stderr",
     "output_type": "stream",
     "text": [
      "/opt/anaconda3/lib/python3.11/site-packages/seaborn/_oldcore.py:1119: FutureWarning: use_inf_as_na option is deprecated and will be removed in a future version. Convert inf values to NaN before operating instead.\n",
      "  with pd.option_context('mode.use_inf_as_na', True):\n",
      "/opt/anaconda3/lib/python3.11/site-packages/seaborn/_oldcore.py:1119: FutureWarning: use_inf_as_na option is deprecated and will be removed in a future version. Convert inf values to NaN before operating instead.\n",
      "  with pd.option_context('mode.use_inf_as_na', True):\n"
     ]
    },
    {
     "data": {
      "image/png": "[encoded data removed]",
      "text/plain": [
       "<Figure size 1000x400 with 1 Axes>"
      ]
     },
     "metadata": {},
     "output_type": "display_data"
    }
   ],
   "source": [
    "plt.figure(figsize=(10, 4))\n",
    "sns.kdeplot(df, x='prescription_period', hue='adherence', fill=True, alpha=.2)\n",
    "sns.kdeplot(df, x='prescription_period', hue='adherence')\n",
    "plt.title('Distribution of adherence over time (Prescription Period)');"
   ]
  },
  {
   "cell_type": "markdown",
   "id": "c415b5d5-7cd8-4bf3-920f-f041416ace9b",
   "metadata": {},
   "source": [
    "From the distribution, we observe that medications prescribed for shorter durations (up to 30 weeks) tend to have higher adherence rates. However, adherence significantly declines after this point. Conversely, non-adherence shows a notable spike after the 30-week mark, eventually stabilizing at a steady level"
   ]
  },
  {
   "cell_type": "code",
   "execution_count": 25,
   "id": "2b7f3c14-8060-4638-8876-31ffa5be4652",
   "metadata": {},
   "outputs": [
    {
     "data": {
      "image/png": "[encoded data removed]",
      "text/plain": [
       "<Figure size 1000x600 with 1 Axes>"
      ]
     },
     "metadata": {},
     "output_type": "display_data"
    }
   ],
   "source": [
    "plt.figure(figsize=(10, 6))\n",
    "sns.boxplot(data=df, x='sms_reminder', y='age', hue='adherence')\n",
    "plt.title('Age Distribution by SMS Reminder and Adherence')\n",
    "plt.xlabel('SMS Reminder (0: No, 1: Yes)')\n",
    "plt.ylabel('Age')\n",
    "plt.show()\n"
   ]
  },
  {
   "cell_type": "markdown",
   "id": "332d577c-0c3e-4ea5-9837-6613ffa30bec",
   "metadata": {},
   "source": [
    "## 3. Feature Selection\n",
    "\n",
    "In this section, we'll focus on selecting the most relevant features for predicting `adherence`:\n",
    "\n",
    "#### 3.1 **Assess the Relationship Between Adherence and Numerical Features**  \n",
    "   We will use the **ANOVA test** to evaluate how numerical features relate to adherence.\n",
    "\n",
    "#### 3.2 **Assess the Relationship Between Categorical Features and Adherence**  \n",
    "   The **Chi-square test** will be applied to investigate the association between categorical features and adherence.\n",
    "\n",
    "#### 3.3 **Logistic Regression Model for Feature Significance**  \n",
    "   We will implement a basic **logistic regression model** to assess the significance of each feature using p-values. This will help identify which features have predictive power for our target variable (adherence).\n"
   ]
  },
  {
   "cell_type": "code",
   "execution_count": 26,
   "id": "6308afc5-063a-4976-a122-9812189a9f2d",
   "metadata": {},
   "outputs": [],
   "source": [
    "from scipy.stats import chi2_contingency\n",
    "import statsmodels.api as sm\n",
    "import scipy.stats as stats"
   ]
  },
  {
   "cell_type": "markdown",
   "id": "8db08a42-1a14-4a2a-849c-d219324d2d3a",
   "metadata": {},
   "source": [
    "#### Assessing the relationship between categorical features and adherence using chi-square test"
   ]
  },
  {
   "cell_type": "code",
   "execution_count": 27,
   "id": "1dd8fdbe-63fc-4a33-a2b3-b8b710f93f1f",
   "metadata": {},
   "outputs": [
    {
     "name": "stdout",
     "output_type": "stream",
     "text": [
      "Chi-Square Test for diabetes vs Adherence\n",
      "Chi-Square Statistic: 171.49425333093484, p-va|lue: 3.489914671357457e-39\n",
      "--------------------------------------------------\n",
      "Chi-Square Test for alcoholism vs Adherence\n",
      "Chi-Square Statistic: 110.13775710639695, p-va|lue: 9.141225261089331e-26\n",
      "--------------------------------------------------\n",
      "Chi-Square Test for hypertension vs Adherence\n",
      "Chi-Square Statistic: 673.7623594150616, p-va|lue: 1.518473014549838e-148\n",
      "--------------------------------------------------\n",
      "Chi-Square Test for smokes vs Adherence\n",
      "Chi-Square Statistic: 103.33951150925054, p-va|lue: 2.823654659458327e-24\n",
      "--------------------------------------------------\n",
      "Chi-Square Test for tuberculosis vs Adherence\n",
      "Chi-Square Statistic: 0.7453504191374718, p-va|lue: 0.38795232015154213\n",
      "--------------------------------------------------\n",
      "Chi-Square Test for sms_reminder vs Adherence\n",
      "Chi-Square Statistic: 1.536756186334673, p-va|lue: 0.2151012868517076\n",
      "--------------------------------------------------\n"
     ]
    }
   ],
   "source": [
    "categorical_vars = [\"diabetes\", \"alcoholism\", \"hypertension\", \"smokes\", \"tuberculosis\", \"sms_reminder\"]\n",
    "\n",
    "# Perform Chi-Square test for each variable against Adherence\n",
    "for var in categorical_vars:\n",
    "    contingency_table = pd.crosstab(df[var], df[\"adherence\"])\n",
    "    chi2, p, dof, expected = chi2_contingency(contingency_table)\n",
    "    print(f\"Chi-Square Test for {var} vs Adherence\")\n",
    "    print(f\"Chi-Square Statistic: {chi2}, p-va|lue: {p}\")\n",
    "    print(\"-\" * 50)"
   ]
  },
  {
   "cell_type": "markdown",
   "id": "77323179-4d8f-433e-8b6a-f01a78bf2d5a",
   "metadata": {},
   "source": [
    "With a significance level of **p-value < 0.005**, the chi-square tests reveal that the following categorical features have a strong association with `adherence`:  \n",
    "- `diabetes`  \n",
    "- `alcoholism`  \n",
    "- `hypertension`  \n",
    "- `smokes`  \n",
    "\n",
    "On the other hand, features such as `sms_reminder` and `tuberculosis` show no strong association with `adherence`, as their p-values exceed **0.005**."
   ]
  },
  {
   "cell_type": "code",
   "execution_count": 28,
   "id": "020791b3-15d6-4152-8b70-fa1fd71cba05",
   "metadata": {},
   "outputs": [
    {
     "name": "stdout",
     "output_type": "stream",
     "text": [
      "ANOVA for age: F-Statistic: 1835.066644742708, p-value: 0.0\n",
      "ANOVA for prescription_period: F-Statistic: 107940.73368360076, p-value: 0.0\n"
     ]
    }
   ],
   "source": [
    "# List of numerical features to test\n",
    "numerical_features = ['age', 'prescription_period']\n",
    "df['Adherence'] = df['adherence'].map({'yes': 1, 'no': 0})\n",
    "\n",
    "for feature in numerical_features:\n",
    "    adherent_group = df[df['Adherence'] == 1][feature]\n",
    "    non_adherent_group = df[df['Adherence'] == 0][feature]\n",
    "\n",
    "    # Perform ANOVA for each feature\n",
    "    f_statistic, p_value = stats.f_oneway(adherent_group, non_adherent_group)\n",
    "    \n",
    "    # Print results\n",
    "    print(f\"ANOVA for {feature}: F-Statistic: {f_statistic}, p-value: {p_value}\")\n"
   ]
  },
  {
   "cell_type": "markdown",
   "id": "c92695b8-4a69-48ee-821e-e5dd77759593",
   "metadata": {},
   "source": [
    "Both `age` and `prescription_period` have p-values = 0.0, meaning they are both highly significant features that likely impact `adherence`\n",
    "\n",
    "---"
   ]
  },
  {
   "cell_type": "code",
   "execution_count": 29,
   "id": "7ebf7325-bb9b-436d-85be-36c1f34dd588",
   "metadata": {},
   "outputs": [
    {
     "name": "stdout",
     "output_type": "stream",
     "text": [
      "Optimization terminated successfully.\n",
      "         Current function value: 0.364974\n",
      "         Iterations 7\n",
      "                           Logit Regression Results                           \n",
      "==============================================================================\n",
      "Dep. Variable:              Adherence   No. Observations:               179724\n",
      "Model:                          Logit   Df Residuals:                   179714\n",
      "Method:                           MLE   Df Model:                            9\n",
      "Date:                Sun, 01 Dec 2024   Pseudo R-squ.:                  0.4040\n",
      "Time:                        23:27:41   Log-Likelihood:                -65595.\n",
      "converged:                       True   LL-Null:                   -1.1005e+05\n",
      "Covariance Type:            nonrobust   LLR p-value:                     0.000\n",
      "=======================================================================================\n",
      "                          coef    std err          z      P>|z|      [0.025      0.975]\n",
      "---------------------------------------------------------------------------------------\n",
      "const                   2.2168      0.020    109.640      0.000       2.177       2.256\n",
      "Gender                 -0.0141      0.015     -0.957      0.339      -0.043       0.015\n",
      "age                    -0.0088      0.000    -24.665      0.000      -0.010      -0.008\n",
      "prescription_period    -0.0673      0.000   -196.308      0.000      -0.068      -0.067\n",
      "diabetes                0.0110      0.029      0.376      0.707      -0.046       0.068\n",
      "alcoholism              0.3148      0.047      6.694      0.000       0.223       0.407\n",
      "hypertension           -0.1043      0.021     -4.952      0.000      -0.146      -0.063\n",
      "smokes                  0.2125      0.033      6.463      0.000       0.148       0.277\n",
      "tuberculosis            0.0722      0.369      0.196      0.845      -0.651       0.795\n",
      "sms_reminder           -0.0277      0.014     -1.998      0.046      -0.055      -0.001\n",
      "=======================================================================================\n"
     ]
    }
   ],
   "source": [
    "df['Gender'] = df['gender'].map({'m': 1, 'f': 0})\n",
    "X = df[['Gender','age', 'prescription_period', 'diabetes', 'alcoholism', 'hypertension', 'smokes', 'tuberculosis', 'sms_reminder']]\n",
    "y = df['Adherence']\n",
    "\n",
    "# Add a constant to the predictors (for the intercept)\n",
    "X = sm.add_constant(X)\n",
    "\n",
    "# Fit the logistic regression model\n",
    "logit_model = sm.Logit(y, X)\n",
    "result = logit_model.fit()\n",
    "\n",
    "# Print the summary of the logistic regression model\n",
    "print(result.summary())"
   ]
  },
  {
   "cell_type": "markdown",
   "id": "f58c9ec4-84d0-420c-b6f8-c1049bc3eb38",
   "metadata": {},
   "source": [
    "#### Significant Predictors  \n",
    "- **Age**  \n",
    "- **Prescription Period**  \n",
    "- **Alcoholism**  \n",
    "- **Hypertension**  \n",
    "- **Smoking**  \n",
    "\n",
    "These predictors are statistically significant with **p-value < 0.005** and will be included in the final model.\n",
    "\n",
    "#### Non-Significant Predictors  \n",
    "- **Diabetes**, **gender**, and **Tuberculosis**: Not significant in the logistic regression model with **p-value > 0.005**.  \n",
    "- **SMS Reminder**: Although weakly significant with a **p-value of 0.049**, it will be excluded due to its limited predictive power.  \n",
    "\n",
    "---\n",
    "\n",
    "### Direction of Relationships  \n",
    "- **Positive Relationships**:  \n",
    "  - `Alcoholism` and `Smoking` → Increased adherence.  \n",
    "- **Negative Relationships**:  \n",
    "  - `Age`, `Prescription Period`, `Hypertension`, and `SMS Reminder` → Decreased adherence.\n",
    "\n",
    "---\n",
    "\n",
    "### Summary  \n",
    "The final independent variables included in the model are:  \n",
    "- **Age**  \n",
    "- **Prescription Period**  \n",
    "- **Alcoholism**  \n",
    "- **Hypertension**  \n",
    "- **Smoking**\n",
    "\n",
    "---\n",
    "\n",
    "### Additional Notes  \n",
    "\n",
    "#### Chi-Square Test:  \n",
    "- **Purpose**: Evaluates the independent association between a categorical feature and the target variable (`Adherence`).  \n",
    "- **Limitation**: Does not account for interactions or overlapping effects between features. A feature significant in isolation may lose importance when combined with others.\n",
    "\n",
    "#### Logistic Regression:  \n",
    "- **Purpose**: Assesses the combined effects of all features on the target variable.  \n",
    "- **Insights**:  \n",
    "  - Features like `Tuberculosis` may appear significant in Chi-Square tests but become insignificant in logistic regression due to:  \n",
    "    - Overlapping effects with other predictors.  \n",
    "    - Lack of additional predictive value when other features are included in the model.\n"
   ]
  },
  {
   "cell_type": "markdown",
   "id": "d25e43e7-30ce-4ce5-9702-778ed0404406",
   "metadata": {},
   "source": [
    "## 4. Pre-processing and Modelling\n",
    "- Preprocessing\n",
    "- Trainig Models:\n",
    "  - Logistic Regression\n",
    "  - Decision Trees\n",
    "- Evaluate Models"
   ]
  },
  {
   "cell_type": "code",
   "execution_count": 30,
   "id": "19185219-1779-49e7-a5be-03bc56579d7d",
   "metadata": {},
   "outputs": [],
   "source": [
    "from sklearn.feature_extraction import DictVectorizer\n",
    "from sklearn.model_selection import train_test_split\n",
    "from sklearn.tree import export_text # visualising the tree\n",
    "from sklearn.metrics import roc_auc_score\n"
   ]
  },
  {
   "cell_type": "code",
   "execution_count": 31,
   "id": "a26f5da8-9ea1-4c5d-a27b-b0b9af3c9dc7",
   "metadata": {},
   "outputs": [],
   "source": [
    "# final features\n",
    "final_features = ['age',\n",
    "'prescription_period',\n",
    "'alcoholism',\n",
    "'hypertension',\n",
    "'smokes', 'adherence']"
   ]
  },
  {
   "cell_type": "code",
   "execution_count": 32,
   "id": "e69040b6-2cd6-42d7-ba74-e8ea5d965c04",
   "metadata": {},
   "outputs": [],
   "source": [
    "df_final= df[final_features]"
   ]
  },
  {
   "cell_type": "code",
   "execution_count": 106,
   "id": "350f3fa0-928a-4597-bc1d-f6150087a91b",
   "metadata": {},
   "outputs": [],
   "source": [
    "# split train, val, test set\n",
    "df_train_full, df_test = train_test_split(df_final, test_size=0.2, random_state=1)\n",
    "df_train, df_val = train_test_split(df_train_full, test_size=0.33, random_state=1)"
   ]
  },
  {
   "cell_type": "code",
   "execution_count": 107,
   "id": "6413e7a2-e393-43c6-9ff1-ddd774a42aa4",
   "metadata": {},
   "outputs": [
    {
     "data": {
      "text/html": [
       "<div>\n",
       "<style scoped>\n",
       "    .dataframe tbody tr th:only-of-type {\n",
       "        vertical-align: middle;\n",
       "    }\n",
       "\n",
       "    .dataframe tbody tr th {\n",
       "        vertical-align: top;\n",
       "    }\n",
       "\n",
       "    .dataframe thead th {\n",
       "        text-align: right;\n",
       "    }\n",
       "</style>\n",
       "<table border=\"1\" class=\"dataframe\">\n",
       "  <thead>\n",
       "    <tr style=\"text-align: right;\">\n",
       "      <th></th>\n",
       "      <th>age</th>\n",
       "      <th>prescription_period</th>\n",
       "      <th>alcoholism</th>\n",
       "      <th>hypertension</th>\n",
       "      <th>smokes</th>\n",
       "      <th>adherence</th>\n",
       "    </tr>\n",
       "  </thead>\n",
       "  <tbody>\n",
       "    <tr>\n",
       "      <th>166271</th>\n",
       "      <td>26</td>\n",
       "      <td>61</td>\n",
       "      <td>0</td>\n",
       "      <td>0</td>\n",
       "      <td>0</td>\n",
       "      <td>yes</td>\n",
       "    </tr>\n",
       "    <tr>\n",
       "      <th>35726</th>\n",
       "      <td>65</td>\n",
       "      <td>13</td>\n",
       "      <td>0</td>\n",
       "      <td>0</td>\n",
       "      <td>0</td>\n",
       "      <td>yes</td>\n",
       "    </tr>\n",
       "    <tr>\n",
       "      <th>90187</th>\n",
       "      <td>17</td>\n",
       "      <td>1</td>\n",
       "      <td>0</td>\n",
       "      <td>0</td>\n",
       "      <td>0</td>\n",
       "      <td>yes</td>\n",
       "    </tr>\n",
       "    <tr>\n",
       "      <th>175319</th>\n",
       "      <td>0</td>\n",
       "      <td>5</td>\n",
       "      <td>0</td>\n",
       "      <td>0</td>\n",
       "      <td>0</td>\n",
       "      <td>no</td>\n",
       "    </tr>\n",
       "    <tr>\n",
       "      <th>34983</th>\n",
       "      <td>53</td>\n",
       "      <td>109</td>\n",
       "      <td>0</td>\n",
       "      <td>0</td>\n",
       "      <td>0</td>\n",
       "      <td>no</td>\n",
       "    </tr>\n",
       "    <tr>\n",
       "      <th>...</th>\n",
       "      <td>...</td>\n",
       "      <td>...</td>\n",
       "      <td>...</td>\n",
       "      <td>...</td>\n",
       "      <td>...</td>\n",
       "      <td>...</td>\n",
       "    </tr>\n",
       "    <tr>\n",
       "      <th>73569</th>\n",
       "      <td>16</td>\n",
       "      <td>50</td>\n",
       "      <td>0</td>\n",
       "      <td>0</td>\n",
       "      <td>0</td>\n",
       "      <td>no</td>\n",
       "    </tr>\n",
       "    <tr>\n",
       "      <th>109566</th>\n",
       "      <td>56</td>\n",
       "      <td>113</td>\n",
       "      <td>0</td>\n",
       "      <td>1</td>\n",
       "      <td>0</td>\n",
       "      <td>no</td>\n",
       "    </tr>\n",
       "    <tr>\n",
       "      <th>50205</th>\n",
       "      <td>1</td>\n",
       "      <td>54</td>\n",
       "      <td>0</td>\n",
       "      <td>0</td>\n",
       "      <td>0</td>\n",
       "      <td>no</td>\n",
       "    </tr>\n",
       "    <tr>\n",
       "      <th>5211</th>\n",
       "      <td>49</td>\n",
       "      <td>56</td>\n",
       "      <td>0</td>\n",
       "      <td>0</td>\n",
       "      <td>0</td>\n",
       "      <td>no</td>\n",
       "    </tr>\n",
       "    <tr>\n",
       "      <th>128404</th>\n",
       "      <td>79</td>\n",
       "      <td>3</td>\n",
       "      <td>0</td>\n",
       "      <td>1</td>\n",
       "      <td>0</td>\n",
       "      <td>yes</td>\n",
       "    </tr>\n",
       "  </tbody>\n",
       "</table>\n",
       "<p>143779 rows × 6 columns</p>\n",
       "</div>"
      ],
      "text/plain": [
       "        age  prescription_period  alcoholism  hypertension  smokes adherence\n",
       "166271   26                   61           0             0       0       yes\n",
       "35726    65                   13           0             0       0       yes\n",
       "90187    17                    1           0             0       0       yes\n",
       "175319    0                    5           0             0       0        no\n",
       "34983    53                  109           0             0       0        no\n",
       "...     ...                  ...         ...           ...     ...       ...\n",
       "73569    16                   50           0             0       0        no\n",
       "109566   56                  113           0             1       0        no\n",
       "50205     1                   54           0             0       0        no\n",
       "5211     49                   56           0             0       0        no\n",
       "128404   79                    3           0             1       0       yes\n",
       "\n",
       "[143779 rows x 6 columns]"
      ]
     },
     "execution_count": 107,
     "metadata": {},
     "output_type": "execute_result"
    }
   ],
   "source": [
    "df_train_full"
   ]
  },
  {
   "cell_type": "code",
   "execution_count": 109,
   "id": "2c5f8488-b303-4fea-94d9-f9c83de01571",
   "metadata": {},
   "outputs": [],
   "source": [
    "# (optional) reseting index\n",
    "df_train = df_train.reset_index(drop=True)\n",
    "df_val = df_val.reset_index(drop=True)\n",
    "df_test = df_test.reset_index(drop=True)\n",
    "\n",
    "df_train_full = df_train_full.reset_index(drop=True)"
   ]
  },
  {
   "cell_type": "code",
   "execution_count": 110,
   "id": "0a4e1f7a-d36d-4036-9ec2-2fe7d8d10628",
   "metadata": {},
   "outputs": [],
   "source": [
    "# target feature (adherence)\n",
    "y_train = df_train['adherence'].map({'yes': 1, 'no': 0})\n",
    "y_val = df_val['adherence'].map({'yes': 1, 'no': 0})\n",
    "y_test = df_test['adherence'].map({'yes': 1, 'no': 0})\n",
    "\n",
    "y_train_full = df_train_full['adherence'].map({'yes':1, 'no':0})"
   ]
  },
  {
   "cell_type": "code",
   "execution_count": 111,
   "id": "4b47697d-6267-491a-b1c3-c642627ca238",
   "metadata": {},
   "outputs": [],
   "source": [
    "# deleting the adherence from the dataframe\n",
    "del df_train['adherence']\n",
    "del df_val['adherence']\n",
    "del df_test['adherence']\n",
    "del df_train_full['adherence']"
   ]
  },
  {
   "cell_type": "code",
   "execution_count": 112,
   "id": "02d1ea47-6533-4ae6-9bce-48c6fa03d343",
   "metadata": {},
   "outputs": [
    {
     "data": {
      "text/plain": [
       "{'age': 65,\n",
       " 'prescription_period': 13,\n",
       " 'alcoholism': 0,\n",
       " 'hypertension': 0,\n",
       " 'smokes': 0}"
      ]
     },
     "execution_count": 112,
     "metadata": {},
     "output_type": "execute_result"
    }
   ],
   "source": [
    "dv = DictVectorizer(sparse=False)\n",
    "\n",
    "dict_train = df_train.to_dict(orient='records')\n",
    "X_train = dv.fit_transform(dict_train)\n",
    "\n",
    "dict_val = df_val.to_dict(orient='records')\n",
    "X_val = dv.transform(dict_val)\n",
    "\n",
    "\n",
    "dict_test = df_test.to_dict(orient='records')\n",
    "X_test = dv.transform(dict_test)\n",
    "\n",
    "dict_train_full = df_train_full.to_dict(orient='records')\n",
    "X_train_full = dv.transform(dict_train_full)\n",
    "\n",
    "\n",
    "# first dictionary\n",
    "dict_train_full[1]"
   ]
  },
  {
   "cell_type": "markdown",
   "id": "7a9ebf65-84d6-4df3-8dfd-654fc27f3f44",
   "metadata": {},
   "source": [
    "### Logistic regression\n"
   ]
  },
  {
   "cell_type": "code",
   "execution_count": 44,
   "id": "8dd6494e-ed10-47a7-a2bd-fd0222e8c5f2",
   "metadata": {},
   "outputs": [],
   "source": [
    "from sklearn.pipeline import Pipeline\n",
    "from sklearn.preprocessing import StandardScaler\n",
    "from sklearn.linear_model import LogisticRegression\n",
    "from sklearn.metrics import roc_auc_score\n",
    "from sklearn.model_selection import GridSearchCV"
   ]
  },
  {
   "cell_type": "code",
   "execution_count": 39,
   "id": "75d73471-574b-401c-ad99-166c6e82af34",
   "metadata": {},
   "outputs": [
    {
     "name": "stdout",
     "output_type": "stream",
     "text": [
      "Fitting 5 folds for each of 36 candidates, totalling 180 fits\n",
      "Best Parameters: {'lr__C': 5, 'lr__max_iter': 500, 'lr__solver': 'saga'}\n",
      "Validation AUC Score: 0.9006\n"
     ]
    }
   ],
   "source": [
    "# Define pipeline and parameter grid\n",
    "pipeline = Pipeline([\n",
    "    ('scaler', StandardScaler()),  # Ensures features are standardized\n",
    "    ('lr', LogisticRegression(random_state=1))\n",
    "])\n",
    "\n",
    "parameters = {\n",
    "    \"lr__max_iter\": [500, 1000, 1500],\n",
    "    \"lr__C\": [1, 5, 10, 20],\n",
    "    \"lr__solver\": [\"lbfgs\", \"newton-cg\", \"saga\"]\n",
    "}\n",
    "\n",
    "# Perform grid search\n",
    "gs_lr = GridSearchCV(\n",
    "    estimator=pipeline,\n",
    "    param_grid=parameters,\n",
    "    scoring='roc_auc',  # AUC score\n",
    "    cv=5,\n",
    "    verbose=1,\n",
    "    n_jobs=-1\n",
    ")\n",
    "\n",
    "# Fit grid search on the training set\n",
    "gs_lr.fit(X_train, y_train)\n",
    "\n",
    "# Best parameters and validation AUC\n",
    "best_params = gs_lr.best_params_\n",
    "print(f\"Best Parameters: {best_params}\")\n",
    "\n",
    "best_model = gs_lr.best_estimator_\n",
    "y_val_pred_proba = best_model.predict_proba(X_val)[:, 1]\n",
    "val_auc = roc_auc_score(y_val, y_val_pred_proba)\n",
    "print(f\"Validation AUC Score: {val_auc:.4f}\")"
   ]
  },
  {
   "cell_type": "code",
   "execution_count": 40,
   "id": "efa3775d-5861-436b-a3a8-d4f4aa9cb61b",
   "metadata": {},
   "outputs": [
    {
     "name": "stdout",
     "output_type": "stream",
     "text": [
      "Test AUC Score: 0.9022\n"
     ]
    }
   ],
   "source": [
    "# Train the final model on X_train_full\n",
    "best_model.fit(X_train_full, y_train_full)\n",
    "\n",
    "# Evaluate on X_test\n",
    "y_test_pred_proba = best_model.predict_proba(X_test)[:, 1]\n",
    "test_auc = roc_auc_score(y_test, y_test_pred_proba)\n",
    "print(f\"Test AUC Score: {test_auc:.4f}\")"
   ]
  },
  {
   "cell_type": "markdown",
   "id": "39813271-1cb3-4af3-95b1-40956bdda1ef",
   "metadata": {},
   "source": [
    "### Decision Tree"
   ]
  },
  {
   "cell_type": "code",
   "execution_count": 57,
   "id": "e1b96792-39eb-4773-a465-a1dd290ffdfa",
   "metadata": {},
   "outputs": [],
   "source": [
    "from sklearn.tree import DecisionTreeClassifier"
   ]
  },
  {
   "cell_type": "code",
   "execution_count": 59,
   "id": "2d6a67d8-9a1f-4e67-8358-73cdfec1cbe8",
   "metadata": {},
   "outputs": [
    {
     "name": "stdout",
     "output_type": "stream",
     "text": [
      "Fitting 5 folds for each of 36 candidates, totalling 180 fits\n",
      "Best Parameters: {'dt__max_depth': 5, 'dt__min_samples_leaf': 5, 'dt__min_samples_split': 2}\n",
      "Validation AUC Score: 0.9109\n"
     ]
    }
   ],
   "source": [
    "# Define pipeline and parameter grid\n",
    "pipeline = Pipeline([\n",
    "    ('dt', DecisionTreeClassifier(random_state=1))\n",
    "])\n",
    "\n",
    "parameters = {\n",
    "    \"dt__max_depth\": [5, 10, 15, None],  # Depth of the tree\n",
    "    \"dt__min_samples_split\": [2, 5, 10],  # Minimum samples to split a node\n",
    "    \"dt__min_samples_leaf\": [1, 2, 5],   # Minimum samples in a leaf\n",
    "}\n",
    "\n",
    "# Perform grid search\n",
    "gs_dt = GridSearchCV(\n",
    "    estimator=pipeline,\n",
    "    param_grid=parameters,\n",
    "    scoring='roc_auc',  # Use AUC as the scoring metric\n",
    "    cv=5,\n",
    "    verbose=1,\n",
    "    n_jobs=-1\n",
    ")\n",
    "\n",
    "# Fit grid search on the training set\n",
    "gs_dt.fit(X_train, y_train)\n",
    "\n",
    "# Best parameters and validation AUC\n",
    "best_params = gs_dt.best_params_\n",
    "print(f\"Best Parameters: {best_params}\")\n",
    "\n",
    "best_model = gs_dt.best_estimator_\n",
    "y_val_pred_proba = best_model.predict_proba(X_val)[:, 1]\n",
    "val_auc = roc_auc_score(y_val, y_val_pred_proba)\n",
    "print(f\"Validation AUC Score: {val_auc:.4f}\")"
   ]
  },
  {
   "cell_type": "code",
   "execution_count": 60,
   "id": "35d46d47-b3b3-4076-b6c7-b9b4c9b9c343",
   "metadata": {},
   "outputs": [
    {
     "name": "stdout",
     "output_type": "stream",
     "text": [
      "Test AUC Score: 0.9112\n"
     ]
    }
   ],
   "source": [
    "# Train the final model on X_train_full\n",
    "best_model.fit(X_train_full, y_train_full)\n",
    "\n",
    "# Step 5: Evaluate on X_test\n",
    "y_test_pred_proba = best_model.predict_proba(X_test)[:, 1]\n",
    "test_auc = roc_auc_score(y_test, y_test_pred_proba)\n",
    "print(f\"Test AUC Score: {test_auc:.4f}\")"
   ]
  },
  {
   "cell_type": "markdown",
   "id": "f246d03b-d5c1-43bb-89ff-bef63d8ab4d8",
   "metadata": {},
   "source": [
    "### Catboost"
   ]
  },
  {
   "cell_type": "code",
   "execution_count": 45,
   "id": "de90d0d5-98a1-4399-938e-101e2820dd86",
   "metadata": {},
   "outputs": [],
   "source": [
    "from catboost import CatBoostClassifier\n",
    "from sklearn.model_selection import RandomizedSearchCV"
   ]
  },
  {
   "cell_type": "code",
   "execution_count": 72,
   "id": "5be68610-6c9a-4a29-80a8-15e04aedee3b",
   "metadata": {},
   "outputs": [
    {
     "name": "stdout",
     "output_type": "stream",
     "text": [
      "Fitting 3 folds for each of 16 candidates, totalling 48 fits\n",
      "Best Parameters: {'depth': 4, 'iterations': 200, 'l2_leaf_reg': 3, 'learning_rate': 0.05}\n",
      "Validation AUC Score: 0.9121\n"
     ]
    }
   ],
   "source": [
    "# Define the CatBoost model\n",
    "catboost_model = CatBoostClassifier(\n",
    "    random_state=1,\n",
    "    verbose=0,  # Set verbose to 0 for cleaner output during training\n",
    "    task_type=\"CPU\"  # Training on CPU\n",
    ")\n",
    "\n",
    "# Define a reduced hyperparameter grid\n",
    "param_grid = {\n",
    "    'depth': [4, 6],  # Reduced depth values for faster training\n",
    "    'iterations': [100, 200],  # Fewer iterations for quicker testing\n",
    "    'learning_rate': [0.01, 0.05],  # Lower learning rates for better performance\n",
    "    'l2_leaf_reg': [1, 3],  # Regularization strength (l2)\n",
    "}\n",
    "\n",
    "# Use GridSearchCV for hyperparameter tuning with 3-fold cross-validation\n",
    "gs_cb = GridSearchCV(\n",
    "    estimator=catboost_model,\n",
    "    param_grid=param_grid,\n",
    "    scoring='roc_auc',  # Optimize for AUC score\n",
    "    cv=3,  # Reduced number of folds\n",
    "    verbose=1,  # Show progress\n",
    "    n_jobs=-1  # Use all available cores (multi-threading)\n",
    ")\n",
    "\n",
    "# Fit the model on the training set\n",
    "gs_cb.fit(X_train, y_train)\n",
    "\n",
    "# Get the best parameters from GridSearchCV\n",
    "best_params = gs_cb.best_params_\n",
    "print(f\"Best Parameters: {best_params}\")\n",
    "\n",
    "# Evaluate the best model on the validation set\n",
    "best_model = gs_cb.best_estimator_\n",
    "\n",
    "# Validation AUC\n",
    "y_val_pred_proba = gs_cb.predict_proba(X_val)[:, 1]  # Get probabilities for the positive class\n",
    "val_auc = roc_auc_score(y_val, y_val_pred_proba)\n",
    "print(f\"Validation AUC Score: {val_auc:.4f}\")"
   ]
  },
  {
   "cell_type": "code",
   "execution_count": 73,
   "id": "2bb9aca2-0ca6-4e1e-98f7-953a1e388dbe",
   "metadata": {},
   "outputs": [
    {
     "name": "stdout",
     "output_type": "stream",
     "text": [
      "Test AUC Score: 0.9121\n"
     ]
    }
   ],
   "source": [
    "best_model.fit(X_train_full, y_train_full)\n",
    "\n",
    "# Evaluate the best model on the test set\n",
    "y_test_pred_proba = best_model.predict_proba(X_test)[:, 1]  # Get probabilities for the positive class\n",
    "test_auc = roc_auc_score(y_test, y_test_pred_proba)\n",
    "print(f\"Test AUC Score: {test_auc:.4f}\")"
   ]
  },
  {
   "cell_type": "markdown",
   "id": "13d5b9c1-873c-4f43-9327-b6323c95c5ce",
   "metadata": {},
   "source": [
    "### Random Forest"
   ]
  },
  {
   "cell_type": "code",
   "execution_count": 46,
   "id": "a3eae1a5-46ab-4fdb-a3c5-7edc3c752515",
   "metadata": {},
   "outputs": [],
   "source": [
    "from sklearn.ensemble import RandomForestClassifier"
   ]
  },
  {
   "cell_type": "code",
   "execution_count": 76,
   "id": "5896c4a5-ecea-41ac-b7cd-92dfbe0d4e6b",
   "metadata": {},
   "outputs": [
    {
     "name": "stdout",
     "output_type": "stream",
     "text": [
      "Fitting 3 folds for each of 20 candidates, totalling 60 fits\n",
      "Best Parameters: {'n_estimators': 150, 'min_samples_split': 5, 'min_samples_leaf': 2, 'max_features': 'sqrt', 'max_depth': 6, 'bootstrap': True}\n",
      "Validation AUC Score: 0.9117\n"
     ]
    }
   ],
   "source": [
    "rf_model = RandomForestClassifier(\n",
    "    random_state=1,\n",
    "    n_jobs=-1  # Use all available cores for parallel computation\n",
    ")\n",
    "\n",
    "# Define the corrected hyperparameter grid\n",
    "param_dist = {\n",
    "    'n_estimators': [50, 100, 150],  # Number of trees in the forest\n",
    "    'max_depth': [4, 6, 8, None],  # Maximum depth of the trees\n",
    "    'min_samples_split': [2, 5],  # Minimum samples required to split a node\n",
    "    'min_samples_leaf': [1, 2],  # Minimum samples required at a leaf node\n",
    "    'max_features': ['sqrt', 'log2'],  # Valid options for max_features\n",
    "    'bootstrap': [True, False]  # Whether bootstrap samples are used when building trees\n",
    "}\n",
    "\n",
    "# Use RandomizedSearchCV for hyperparameter tuning with 3-fold cross-validation\n",
    "rs_rf = RandomizedSearchCV(\n",
    "    estimator=rf_model,\n",
    "    param_distributions=param_dist,\n",
    "    n_iter=20,  # Number of random combinations to try\n",
    "    scoring='roc_auc',  # Optimize for AUC score\n",
    "    cv=3,  # Reduced number of folds\n",
    "    verbose=1,  # Show progress\n",
    "    n_jobs=-1,  # Use all available cores\n",
    "    random_state=1\n",
    ")\n",
    "\n",
    "# Fit the model on the training set\n",
    "rs_rf.fit(X_train, y_train)\n",
    "\n",
    "# Get the best parameters from RandomizedSearchCV\n",
    "best_params = rs_rf.best_params_\n",
    "print(f\"Best Parameters: {best_params}\")\n",
    "\n",
    "# Evaluate the best model on the validation set\n",
    "best_rf_model = rs_rf.best_estimator_\n",
    "\n",
    "# Validation AUC\n",
    "y_val_pred_proba = best_rf_model.predict_proba(X_val)[:, 1]  # Get probabilities for the positive class\n",
    "val_auc = roc_auc_score(y_val, y_val_pred_proba)\n",
    "print(f\"Validation AUC Score: {val_auc:.4f}\")"
   ]
  },
  {
   "cell_type": "code",
   "execution_count": 117,
   "id": "265a5ee4-126f-42f8-a931-53a579ec414a",
   "metadata": {},
   "outputs": [
    {
     "name": "stdout",
     "output_type": "stream",
     "text": [
      "Test AUC Score: 0.9120\n"
     ]
    }
   ],
   "source": [
    "best_rf_model.fit(X_train_full, y_train_full)\n",
    "\n",
    "# Evaluate the best model on the test set\n",
    "y_test_pred_proba_rf = best_rf_model.predict_proba(X_test)[:, 1]  # Get probabilities for the positive class\n",
    "test_auc = roc_auc_score(y_test, y_test_pred_proba_rf)\n",
    "print(f\"Test AUC Score: {test_auc:.4f}\")"
   ]
  },
  {
   "cell_type": "markdown",
   "id": "c8cc0c07-e188-462c-b4b7-6cc14f9e8ae0",
   "metadata": {},
   "source": [
    "### XGBoost "
   ]
  },
  {
   "cell_type": "code",
   "execution_count": 79,
   "id": "eb77fb3b-9be0-4190-ae51-20dcfec48664",
   "metadata": {},
   "outputs": [],
   "source": [
    "from xgboost import XGBClassifier"
   ]
  },
  {
   "cell_type": "code",
   "execution_count": 82,
   "id": "61255217-e578-4c5d-a6e8-accd6684ed72",
   "metadata": {},
   "outputs": [
    {
     "name": "stdout",
     "output_type": "stream",
     "text": [
      "Fitting 3 folds for each of 30 candidates, totalling 90 fits\n",
      "Best Parameters: {'n_estimators': 200, 'min_samples_split': 2, 'min_samples_leaf': 4, 'max_depth': 10}\n",
      "Validation Scores: 0.9111952574136148\n"
     ]
    }
   ],
   "source": [
    "param_distributions = {\n",
    "    \"n_estimators\": np.arange(100, 500, 50),\n",
    "    \"max_depth\": [None, 10, 20, 30],\n",
    "    \"min_samples_split\": [2, 5, 10],\n",
    "    \"min_samples_leaf\": [1, 2, 4]\n",
    "}\n",
    "\n",
    "xgb_rs = RandomizedSearchCV(\n",
    "    estimator=RandomForestClassifier(random_state=1),\n",
    "    param_distributions=param_distributions,\n",
    "    scoring='roc_auc',\n",
    "    n_iter=30,  # Number of parameter settings sampled\n",
    "    cv=3,\n",
    "    verbose=1,\n",
    "    n_jobs=-1\n",
    ")\n",
    "\n",
    "xgb_rs.fit(X_train, y_train)\n",
    "\n",
    "# Retrieve the best parameters and model\n",
    "best_params_xgb = xgb_rs.best_params_\n",
    "print(f\"Best Parameters: {best_params_xgb}\")\n",
    "\n",
    "best_xgb = xgb_rs.best_estimator_\n",
    "\n",
    "# Validation set evaluation\n",
    "y_val_pred_xgb = best_xgb.predict(X_val)\n",
    "y_val_pred_proba_xgb = best_xgb.predict_proba(X_val)[:, 1]\n",
    "val_auc = roc_auc_score(y_val, y_val_pred_proba_xgb)\n",
    "print(f\"Validation Scores: {val_auc}\")"
   ]
  },
  {
   "cell_type": "code",
   "execution_count": 85,
   "id": "ed0cf1ef-0647-412e-823e-7460651754f4",
   "metadata": {},
   "outputs": [
    {
     "name": "stdout",
     "output_type": "stream",
     "text": [
      "Test Scores: 0.9111476720280176\n"
     ]
    }
   ],
   "source": [
    "# Train the final model on X_train_full\n",
    "best_xgb.fit(X_train_full, y_train_full)\n",
    "\n",
    "# Test set evaluation\n",
    "y_test_pred_xgb = best_xgb.predict(X_test)\n",
    "y_test_pred_proba_xgb = best_xgb.predict_proba(X_test)[:, 1]\n",
    "test_auc = roc_auc_score(y_test, y_test_pred_proba_xgb)\n",
    "print(f\"Test Scores: {test_auc}\")"
   ]
  },
  {
   "cell_type": "markdown",
   "id": "9e362177-9c6e-4830-bfd1-c00ceab3a8db",
   "metadata": {},
   "source": [
    "### Model Performance "
   ]
  },
  {
   "cell_type": "code",
   "execution_count": 86,
   "id": "62039619-b6f1-4c94-9397-933f523cc408",
   "metadata": {},
   "outputs": [
    {
     "data": {
      "text/html": [
       "<style type=\"text/css\">\n",
       "#T_a6791_row0_col0, #T_a6791_row0_col1, #T_a6791_row0_col2, #T_a6791_row0_col4, #T_a6791_row2_col3 {\n",
       "  background-color: red;\n",
       "}\n",
       "#T_a6791_row0_col3, #T_a6791_row2_col1, #T_a6791_row2_col4, #T_a6791_row3_col0, #T_a6791_row3_col2 {\n",
       "  background-color: green;\n",
       "}\n",
       "</style>\n",
       "<table id=\"T_a6791\">\n",
       "  <thead>\n",
       "    <tr>\n",
       "      <th class=\"blank level0\" >&nbsp;</th>\n",
       "      <th id=\"T_a6791_level0_col0\" class=\"col_heading level0 col0\" >AUC_ROC</th>\n",
       "      <th id=\"T_a6791_level0_col1\" class=\"col_heading level0 col1\" >F1_Score</th>\n",
       "      <th id=\"T_a6791_level0_col2\" class=\"col_heading level0 col2\" >Accuracy</th>\n",
       "      <th id=\"T_a6791_level0_col3\" class=\"col_heading level0 col3\" >Precision</th>\n",
       "      <th id=\"T_a6791_level0_col4\" class=\"col_heading level0 col4\" >Recall</th>\n",
       "    </tr>\n",
       "  </thead>\n",
       "  <tbody>\n",
       "    <tr>\n",
       "      <th id=\"T_a6791_level0_row0\" class=\"row_heading level0 row0\" >Logistic Regression</th>\n",
       "      <td id=\"T_a6791_row0_col0\" class=\"data row0 col0\" >0.902175</td>\n",
       "      <td id=\"T_a6791_row0_col1\" class=\"data row0 col1\" >0.804611</td>\n",
       "      <td id=\"T_a6791_row0_col2\" class=\"data row0 col2\" >0.879288</td>\n",
       "      <td id=\"T_a6791_row0_col3\" class=\"data row0 col3\" >0.783959</td>\n",
       "      <td id=\"T_a6791_row0_col4\" class=\"data row0 col4\" >0.826381</td>\n",
       "    </tr>\n",
       "    <tr>\n",
       "      <th id=\"T_a6791_level0_row1\" class=\"row_heading level0 row1\" >Decision Tree</th>\n",
       "      <td id=\"T_a6791_row1_col0\" class=\"data row1 col0\" >0.911181</td>\n",
       "      <td id=\"T_a6791_row1_col1\" class=\"data row1 col1\" >0.834555</td>\n",
       "      <td id=\"T_a6791_row1_col2\" class=\"data row1 col2\" >0.893281</td>\n",
       "      <td id=\"T_a6791_row1_col3\" class=\"data row1 col3\" >0.781818</td>\n",
       "      <td id=\"T_a6791_row1_col4\" class=\"data row1 col4\" >0.894922</td>\n",
       "    </tr>\n",
       "    <tr>\n",
       "      <th id=\"T_a6791_level0_row2\" class=\"row_heading level0 row2\" >Random Forest</th>\n",
       "      <td id=\"T_a6791_row2_col0\" class=\"data row2 col0\" >0.911965</td>\n",
       "      <td id=\"T_a6791_row2_col1\" class=\"data row2 col1\" >0.835184</td>\n",
       "      <td id=\"T_a6791_row2_col2\" class=\"data row2 col2\" >0.893448</td>\n",
       "      <td id=\"T_a6791_row2_col3\" class=\"data row2 col3\" >0.780880</td>\n",
       "      <td id=\"T_a6791_row2_col4\" class=\"data row2 col4\" >0.897604</td>\n",
       "    </tr>\n",
       "    <tr>\n",
       "      <th id=\"T_a6791_level0_row3\" class=\"row_heading level0 row3\" >Catboost</th>\n",
       "      <td id=\"T_a6791_row3_col0\" class=\"data row3 col0\" >0.912079</td>\n",
       "      <td id=\"T_a6791_row3_col1\" class=\"data row3 col1\" >0.834750</td>\n",
       "      <td id=\"T_a6791_row3_col2\" class=\"data row3 col2\" >0.893476</td>\n",
       "      <td id=\"T_a6791_row3_col3\" class=\"data row3 col3\" >0.782443</td>\n",
       "      <td id=\"T_a6791_row3_col4\" class=\"data row3 col4\" >0.894552</td>\n",
       "    </tr>\n",
       "    <tr>\n",
       "      <th id=\"T_a6791_level0_row4\" class=\"row_heading level0 row4\" >XGBoost</th>\n",
       "      <td id=\"T_a6791_row4_col0\" class=\"data row4 col0\" >0.911148</td>\n",
       "      <td id=\"T_a6791_row4_col1\" class=\"data row4 col1\" >0.834217</td>\n",
       "      <td id=\"T_a6791_row4_col2\" class=\"data row4 col2\" >0.893031</td>\n",
       "      <td id=\"T_a6791_row4_col3\" class=\"data row4 col3\" >0.781295</td>\n",
       "      <td id=\"T_a6791_row4_col4\" class=\"data row4 col4\" >0.894829</td>\n",
       "    </tr>\n",
       "  </tbody>\n",
       "</table>\n"
      ],
      "text/plain": [
       "<pandas.io.formats.style.Styler at 0x13d686e90>"
      ]
     },
     "execution_count": 86,
     "metadata": {},
     "output_type": "execute_result"
    }
   ],
   "source": [
    "from sklearn.metrics import f1_score, accuracy_score, precision_score, recall_score, roc_auc_score\n",
    "\n",
    "def get_scores(y_true, y_pred, y_pred_proba):\n",
    "    return {\n",
    "        'AUC_ROC': roc_auc_score(y_true, y_pred_proba),\n",
    "        'F1_Score': f1_score(y_true, y_pred),\n",
    "        'Accuracy': accuracy_score(y_true, y_pred),\n",
    "        'Precision': precision_score(y_true, y_pred),\n",
    "        'Recall': recall_score(y_true, y_pred)\n",
    "    }\n",
    "\n",
    "\n",
    "scores = []\n",
    "\n",
    "# List of models to evaluate\n",
    "models = [\n",
    "    (\"Logistic Regression\", gs_lr),\n",
    "    (\"Decision Tree\", gs_dt),\n",
    "    (\"Random Forest\", rs_rf),\n",
    "    (\"CatBoost\", gs_cb),\n",
    "    (\"XGBoost\", xgb_rs)\n",
    "]\n",
    "\n",
    "# Evaluate each model\n",
    "for model_name, model in models:\n",
    "    y_test_pred = model.predict(X_test)\n",
    "    y_test_pred_proba = model.predict_proba(X_test)[:, 1]  # Use probabilities of the positive class\n",
    "    \n",
    "    # Get the scores for the current model\n",
    "    model_scores = get_scores(y_test, y_test_pred, y_test_pred_proba)\n",
    "    scores.append(model_scores.values())\n",
    "\n",
    "# Create the DataFrame for comparison\n",
    "comparison = pd.DataFrame(\n",
    "    data=scores,\n",
    "    index=[\"Logistic Regression\", \"Decision Tree\", \"Random Forest\", \"Catboost\", \"XGBoost\"],\n",
    "    columns=[\"AUC_ROC\", \"F1_Score\", \"Accuracy\", \"Precision\", \"Recall\"]\n",
    ")\n",
    "\n",
    "# Highlight max and min scores in green and red respectively\n",
    "comparison = comparison.style.highlight_max(color='green', axis=0).highlight_min(color='red', axis=0)\n",
    "\n",
    "# Display the comparison\n",
    "comparison\n"
   ]
  },
  {
   "cell_type": "markdown",
   "id": "3bc9a14d-6377-4c38-b387-f39961f84379",
   "metadata": {},
   "source": [
    "### Model Selection: Random Forest  \n",
    "\n",
    "Given the focus on **adherence**, where **false negatives** are costly, Random Forest (RF) is the preferred model for the following reasons:  \n",
    "\n",
    "#### Why Recall is Critical:  \n",
    "- A **false negative** (predicting non-adherence when the patient is actually adherent) can lead to serious consequences, such as:  \n",
    "  - **Hospitalization**  \n",
    "  - **Severe health deterioration**  \n",
    "  - **Potential fatalities**  \n",
    "\n",
    "#### Advantages of Random Forest:  \n",
    "1. **Recall Optimization**:  \n",
    "   - RF is effective in handling imbalanced datasets and maximizing recall, which is essential in this case.  \n",
    "\n",
    "2. **Resource Efficiency**:  \n",
    "   - RF requires **less computational power** compared to CatBoost, which had to be heavily optimized due to limited CPU resources.  \n",
    "   - Faster training makes RF ideal for resource-constrained environments, especially when integrating into a web application.  \n",
    "\n",
    "3. **Latency Benefits**:  \n",
    "   - RF provides predictions with lower latency compared to CatBoost, making it suitable for real-time applications.  \n",
    "\n",
    "4. **Performance**:  \n",
    "   - RF achieved the **second-highest AUC score** among all tested models, balancing recall and precision effectively.  \n",
    "\n",
    "---\n",
    "\n",
    "### Summary  \n",
    "Considering the critical nature of **recall**, **resource constraints**, and the **high stakes** associated with false negatives, Random Forest is the most suitable model for predicting adherence in this project.\n",
    "\n",
    "\n"
   ]
  },
  {
   "cell_type": "markdown",
   "id": "2ae7d203-5d09-4621-83f1-2c371697c39b",
   "metadata": {},
   "source": [
    "\n",
    "---\n",
    "### Choosing the Appropriate Threshold for Web Application Deployment  \n",
    "\n",
    "When deploying the model as a web application, selecting the optimal threshold is crucial to balance **false positive rate (FPR)** and **true positive rate (TPR)**. Here's the process:\n",
    "\n",
    "1. **Compute Metrics for Multiple Thresholds**:  \n",
    "   - Create a table with **100 evenly spaced thresholds** ranging from `0` to `1`.  \n",
    "   - For each threshold, calculate:  \n",
    "     - **FPR**: False Positive Rate  \n",
    "     - **TPR**: True Positive Rate  \n",
    "     - **Threshold**: The decision boundary  \n",
    "\n",
    "2. **Plot the ROC Curve**:  \n",
    "   - Plot **TPR** (y-axis) against **FPR** (x-axis) to visualize the trade-off between sensitivity (recall) and specificity.  \n",
    "   - The **area under the curve (AUC)** helps summarize model performance across all thresholds.  \n",
    "\n",
    "3. **Select the Threshold**:  \n",
    "   - Choose a threshold that achieves the desired balance between recall and precision, based on business or application needs.  \n",
    "   - For this project, where false negatives are costly, a threshold favoring **higher recall** is recommended.  \n",
    "\n",
    "\n",
    "#### Why It Matters:  \n",
    "- A lower threshold increases recall but may result in more false positives.  \n",
    "- A higher threshold improves precision but risks missing true positive cases.  \n",
    "- The selected threshold directly impacts **real-world usability** in the application, especially for adherence prediction where timely interventions are critical.  "
   ]
  },
  {
   "cell_type": "code",
   "execution_count": 124,
   "id": "25678e71-7e5b-4cbc-ab1c-3b3c65610f42",
   "metadata": {},
   "outputs": [
    {
     "data": {
      "text/html": [
       "<div>\n",
       "<style scoped>\n",
       "    .dataframe tbody tr th:only-of-type {\n",
       "        vertical-align: middle;\n",
       "    }\n",
       "\n",
       "    .dataframe tbody tr th {\n",
       "        vertical-align: top;\n",
       "    }\n",
       "\n",
       "    .dataframe thead th {\n",
       "        text-align: right;\n",
       "    }\n",
       "</style>\n",
       "<table border=\"1\" class=\"dataframe\">\n",
       "  <thead>\n",
       "    <tr style=\"text-align: right;\">\n",
       "      <th></th>\n",
       "      <th>False Positive Rate (FPR)</th>\n",
       "      <th>True Positive Rate (TPR)</th>\n",
       "      <th>Threshold</th>\n",
       "    </tr>\n",
       "  </thead>\n",
       "  <tbody>\n",
       "    <tr>\n",
       "      <th>0</th>\n",
       "      <td>0.000000</td>\n",
       "      <td>0.000000</td>\n",
       "      <td>inf</td>\n",
       "    </tr>\n",
       "    <tr>\n",
       "      <th>1000</th>\n",
       "      <td>0.061630</td>\n",
       "      <td>0.625474</td>\n",
       "      <td>0.764705</td>\n",
       "    </tr>\n",
       "    <tr>\n",
       "      <th>2000</th>\n",
       "      <td>0.089679</td>\n",
       "      <td>0.815928</td>\n",
       "      <td>0.689549</td>\n",
       "    </tr>\n",
       "    <tr>\n",
       "      <th>3000</th>\n",
       "      <td>0.222647</td>\n",
       "      <td>0.920081</td>\n",
       "      <td>0.062242</td>\n",
       "    </tr>\n",
       "    <tr>\n",
       "      <th>4000</th>\n",
       "      <td>0.474457</td>\n",
       "      <td>0.951068</td>\n",
       "      <td>0.059165</td>\n",
       "    </tr>\n",
       "    <tr>\n",
       "      <th>5000</th>\n",
       "      <td>0.633763</td>\n",
       "      <td>0.969661</td>\n",
       "      <td>0.049690</td>\n",
       "    </tr>\n",
       "    <tr>\n",
       "      <th>6000</th>\n",
       "      <td>0.762115</td>\n",
       "      <td>0.982888</td>\n",
       "      <td>0.043671</td>\n",
       "    </tr>\n",
       "    <tr>\n",
       "      <th>7000</th>\n",
       "      <td>0.925559</td>\n",
       "      <td>0.995468</td>\n",
       "      <td>0.040821</td>\n",
       "    </tr>\n",
       "  </tbody>\n",
       "</table>\n",
       "</div>"
      ],
      "text/plain": [
       "      False Positive Rate (FPR)  True Positive Rate (TPR)  Threshold\n",
       "0                      0.000000                  0.000000        inf\n",
       "1000                   0.061630                  0.625474   0.764705\n",
       "2000                   0.089679                  0.815928   0.689549\n",
       "3000                   0.222647                  0.920081   0.062242\n",
       "4000                   0.474457                  0.951068   0.059165\n",
       "5000                   0.633763                  0.969661   0.049690\n",
       "6000                   0.762115                  0.982888   0.043671\n",
       "7000                   0.925559                  0.995468   0.040821"
      ]
     },
     "execution_count": 124,
     "metadata": {},
     "output_type": "execute_result"
    }
   ],
   "source": [
    "# Create a DataFrame to store FPR, TPR, and thresholds\n",
    "df_roc = pd.DataFrame({\n",
    "    'False Positive Rate (FPR)': fpr,\n",
    "    'True Positive Rate (TPR)': tpr,\n",
    "    'Threshold': thresholds\n",
    "})\n",
    "\n",
    "# Display every 10th row of the DataFrame\n",
    "df_roc[::1000]"
   ]
  },
  {
   "cell_type": "code",
   "execution_count": 127,
   "id": "c41ade0f-0512-46c1-b58c-79840de338e9",
   "metadata": {},
   "outputs": [
    {
     "data": {
      "image/png": "[encoded data removed]",
      "text/plain": [
       "<Figure size 1000x600 with 2 Axes>"
      ]
     },
     "metadata": {},
     "output_type": "display_data"
    }
   ],
   "source": [
    "# Plot ROC Curve\n",
    "plt.figure(figsize=(10, 6))\n",
    "plt.plot(fpr, tpr, label=\"ROC Curve\", color='blue')\n",
    "plt.scatter(fpr, tpr, c=thresholds, cmap='viridis', label=\"Thresholds\", alpha=0.75)\n",
    "plt.colorbar(label=\"Threshold\")\n",
    "plt.xlabel(\"False Positive Rate (FPR)\")\n",
    "plt.ylabel(\"True Positive Rate (TPR)\")\n",
    "plt.title(\"ROC Curve with Thresholds\")\n",
    "plt.legend()\n",
    "plt.grid()\n",
    "plt.show()"
   ]
  },
  {
   "cell_type": "markdown",
   "id": "c9eb1bcc-4d5f-4d58-9346-f3c81c025032",
   "metadata": {},
   "source": [
    "#### Threshold Selection:\n",
    "- Based on the ROC curve, the `threshold` of 0.69 was chosen, as it corresponds to the elbow point on the curve.\n",
    "- At this threshold, the `TPR` is **0.815928**, meaning that **81.59%** of positive cases are correctly identified, while the `FPR` is **0.089679**, which represents a **8.97%** rate of false positives.\n",
    "- This threshold provides a strong recall while keeping false positives at an acceptable level, making it an ideal choice for this application where false negatives (missed cases) could lead to serious consequences, such as hospitalizations.\n",
    "\n",
    "---\n",
    "\n",
    "### Saving the Model\n",
    "- Save the model\n",
    "- Test if saved correctly"
   ]
  },
  {
   "cell_type": "code",
   "execution_count": 88,
   "id": "7d80d42a-00df-480e-ae3c-b9772af4dd88",
   "metadata": {},
   "outputs": [],
   "source": [
    "import pickle"
   ]
  },
  {
   "cell_type": "code",
   "execution_count": 91,
   "id": "a2f8782a-644d-4e7c-bf92-9d7b743cf188",
   "metadata": {},
   "outputs": [],
   "source": [
    "with open('adherence_model-v1.0.bin', 'wb') as f_out: \n",
    "    pickle.dump((dv, best_rf_model), f_out) "
   ]
  },
  {
   "cell_type": "code",
   "execution_count": 92,
   "id": "eed88f41-37ec-43b0-8446-3af1e3ea9dc1",
   "metadata": {},
   "outputs": [],
   "source": [
    "#loading the model\n",
    "with open('adherence_model-v1.0.bin', 'rb') as f_in: #A \n",
    "    dv, model = pickle.load(f_in)"
   ]
  },
  {
   "cell_type": "code",
   "execution_count": 93,
   "id": "797409ba-8523-4332-902a-030997c40dbb",
   "metadata": {},
   "outputs": [
    {
     "data": {
      "text/plain": [
       "(DictVectorizer(sparse=False),\n",
       " RandomForestClassifier(max_depth=6, min_samples_leaf=2, min_samples_split=5,\n",
       "                        n_estimators=150, n_jobs=-1, random_state=1))"
      ]
     },
     "execution_count": 93,
     "metadata": {},
     "output_type": "execute_result"
    }
   ],
   "source": [
    "#checking if loaded correctly\n",
    "dv, model"
   ]
  },
  {
   "cell_type": "code",
   "execution_count": 129,
   "id": "1f2f9a16-4ece-4d2e-a3c8-a29e4adb33e7",
   "metadata": {},
   "outputs": [],
   "source": [
    "#creating a function for prediction\n",
    "def predict_single(patient, dv, model): \n",
    "    # Transform the patient data using the provided transformer\n",
    "    X = dv.transform([patient])\n",
    "    \n",
    "    # Get the predicted probability for the positive class (adherence)\n",
    "    y_pred = model.predict_proba(X)[:, 1]\n",
    "    \n",
    "    # Check if the probability exceeds the threshold\n",
    "    if y_pred[0] >= 0.69:\n",
    "        print(\"Adherence\")\n",
    "    else:\n",
    "        print(\"No Adherence\")"
   ]
  },
  {
   "cell_type": "code",
   "execution_count": 130,
   "id": "7494284b-5fe2-4fd9-a78e-136f65c8afd8",
   "metadata": {},
   "outputs": [],
   "source": [
    "# test with patient\n",
    "patient = {'age': 65,\n",
    " 'prescription_period': 13,\n",
    " 'alcoholism': 0,\n",
    " 'hypertension': 0,\n",
    " 'smokes': 0}"
   ]
  },
  {
   "cell_type": "code",
   "execution_count": 131,
   "id": "0d69ca66-5662-468a-bea4-5b72508f8fff",
   "metadata": {},
   "outputs": [
    {
     "name": "stdout",
     "output_type": "stream",
     "text": [
      "Adherence\n"
     ]
    }
   ],
   "source": [
    "predict_single(patient, dv, model)"
   ]
  },
  {
   "cell_type": "code",
   "execution_count": null,
   "id": "b22d8d1c-4a42-4053-bf1c-be3eb68c9e55",
   "metadata": {},
   "outputs": [],
   "source": []
  },
  {
   "cell_type": "code",
   "execution_count": null,
   "id": "ff2dd38e-7e11-483f-bdee-44f7f4b7a58c",
   "metadata": {},
   "outputs": [],
   "source": []
  },
  {
   "cell_type": "code",
   "execution_count": null,
   "id": "695bf4d1-67b1-4760-abd4-b496d1e19765",
   "metadata": {},
   "outputs": [],
   "source": []
  },
  {
   "cell_type": "code",
   "execution_count": null,
   "id": "cde065f8-d3a2-4f85-abc0-22e9f6bc908e",
   "metadata": {},
   "outputs": [],
   "source": []
  },
  {
   "cell_type": "code",
   "execution_count": null,
   "id": "59a37f54-e52d-4b30-8a7c-94df9d0298dc",
   "metadata": {},
   "outputs": [],
   "source": []
  },
  {
   "cell_type": "code",
   "execution_count": null,
   "id": "a46c45be-8ab4-4c42-ab98-c976c234d931",
   "metadata": {},
   "outputs": [],
   "source": []
  }
 ],
 "metadata": {
  "kernelspec": {
   "display_name": "Python 3 (ipykernel)",
   "language": "python",
   "name": "python3"
  },
  "language_info": {
   "codemirror_mode": {
    "name": "ipython",
    "version": 3
   },
   "file_extension": ".py",
   "mimetype": "text/x-python",
   "name": "python",
   "nbconvert_exporter": "python",
   "pygments_lexer": "ipython3",
   "version": "3.11.7"
  }
 },
 "nbformat": 4,
 "nbformat_minor": 5
}
